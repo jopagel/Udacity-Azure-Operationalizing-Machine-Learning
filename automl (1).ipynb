{
  "cells": [
    {
      "cell_type": "markdown",
      "source": [
        "# Automated ML\n",
        "\n",
        "TODO: Import Dependencies. In the cell below, import all the dependencies that you will need to complete the project."
      ],
      "metadata": {}
    },
    {
      "cell_type": "code",
      "source": [
        "import logging\r\n",
        "import os\r\n",
        "import csv\r\n",
        "\r\n",
        "from matplotlib import pyplot as plt\r\n",
        "import numpy as np\r\n",
        "import pandas as pd\r\n",
        "from sklearn import datasets\r\n",
        "import pkg_resources\r\n",
        "\r\n",
        "import azureml.core\r\n",
        "from azureml.core.experiment import Experiment\r\n",
        "from azureml.core.workspace import Workspace\r\n",
        "from azureml.train.automl import AutoMLConfig\r\n",
        "from azureml.core.dataset import Dataset\r\n",
        "from azureml.core.model import InferenceConfig\r\n",
        "from azureml.core.webservice import AciWebservice\r\n",
        "\r\n",
        "from azureml.pipeline.steps import AutoMLStep\r\n",
        "\r\n",
        "# Check core SDK version number\r\n",
        "print(\"SDK version:\", azureml.core.VERSION)"
      ],
      "outputs": [
        {
          "output_type": "stream",
          "name": "stdout",
          "text": "SDK version: 1.49.0\n"
        }
      ],
      "execution_count": 40,
      "metadata": {
        "gather": {
          "logged": 1688997650480
        },
        "jupyter": {
          "outputs_hidden": false,
          "source_hidden": false
        },
        "nteract": {
          "transient": {
            "deleting": false
          }
        }
      }
    },
    {
      "cell_type": "markdown",
      "source": [
        "### Compute"
      ],
      "metadata": {
        "nteract": {
          "transient": {
            "deleting": false
          }
        }
      }
    },
    {
      "cell_type": "code",
      "source": [
        "from azureml.core.compute import AmlCompute\r\n",
        "from azureml.core.compute import ComputeTarget\r\n",
        "from azureml.core.compute_target import ComputeTargetException\r\n",
        "\r\n",
        "# NOTE: update the cluster name to match the existing cluster\r\n",
        "# Choose a name for your CPU cluster\r\n",
        "amlcompute_cluster_name = \"auto-ml\"\r\n",
        "\r\n",
        "# Verify that cluster does not exist already\r\n",
        "try:\r\n",
        "    compute_target = ComputeTarget(workspace=ws, name=amlcompute_cluster_name)\r\n",
        "    print('Found existing cluster, use it.')\r\n",
        "except ComputeTargetException:\r\n",
        "    compute_config = AmlCompute.provisioning_configuration(vm_size='STANDARD_D2_V2',# for GPU, use \"STANDARD_NC6\"\r\n",
        "                                                           #vm_priority = 'lowpriority', # optional\r\n",
        "                                                           max_nodes=4)\r\n",
        "    compute_target = ComputeTarget.create(ws, amlcompute_cluster_name, compute_config)\r\n",
        "\r\n",
        "compute_target.wait_for_completion(show_output=True, min_node_count = 1, timeout_in_minutes = 10)\r\n",
        "# For a more detailed view of current AmlCompute status, use get_status()."
      ],
      "outputs": [
        {
          "output_type": "stream",
          "name": "stdout",
          "text": "InProgress.\nSucceededProvisioning operation finished, operation \"Succeeded\"\nSucceeded......................................................................................................................\nAmlCompute wait for completion finished\n\nWait timeout has been reached\nCurrent provisioning state of AmlCompute is \"Succeeded\" and current node count is \"0\"\n"
        }
      ],
      "execution_count": 9,
      "metadata": {
        "jupyter": {
          "source_hidden": false,
          "outputs_hidden": false
        },
        "nteract": {
          "transient": {
            "deleting": false
          }
        },
        "gather": {
          "logged": 1688993579031
        }
      }
    },
    {
      "cell_type": "markdown",
      "source": [
        "## Dataset\n",
        "\n",
        "### Overview\n",
        "TODO: In this markdown cell, give an overview of the dataset you are using. Also mention the task you will be performing.\n",
        "\n",
        "\n",
        "TODO: Get data. In the cell below, write code to access the data you will be using in this project. Remember that the dataset needs to be external."
      ],
      "metadata": {}
    },
    {
      "cell_type": "code",
      "source": [
        "found = False\r\n",
        "key = \"heart_failure_data\"\r\n",
        "\r\n",
        "if key in ws.datasets.keys(): \r\n",
        "        found = True\r\n",
        "        dataset = ws.datasets[key] \r\n",
        "\r\n",
        "if not found:\r\n",
        "\r\n",
        "        datastore = ws.get_default_datastore()\r\n",
        "\r\n",
        "        datastore.upload_files(files=[\"./heart_failure_clinical_records_dataset.csv\"],\r\n",
        "                                overwrite=True)\r\n",
        "\r\n",
        "        # Create AML Dataset and register it into Workspace\r\n",
        "        example_data = \"heart_failure_clinical_records_dataset.csv\"\r\n",
        "        dataset = Dataset.Tabular.from_delimited_files(path=(datastore, \"heart_failure_clinical_records_dataset.csv\"))       \r\n",
        "        #Register Dataset in Workspace\r\n",
        "        dataset = dataset.register(workspace=ws,\r\n",
        "                                   name=key)\r\n",
        "\r\n",
        "\r\n",
        "df = dataset.to_pandas_dataframe()\r\n",
        "df"
      ],
      "outputs": [
        {
          "output_type": "stream",
          "name": "stdout",
          "text": "Uploading an estimated of 1 files\nUploading ./heart_failure_clinical_records_dataset.csv\nUploaded ./heart_failure_clinical_records_dataset.csv, 1 files out of an estimated total of 1\nUploaded 1 files\n"
        },
        {
          "output_type": "execute_result",
          "execution_count": 17,
          "data": {
            "text/plain": "      age  anaemia  creatinine_phosphokinase  diabetes  ejection_fraction  \\\n0    75.0        0                       582         0                 20   \n1    55.0        0                      7861         0                 38   \n2    65.0        0                       146         0                 20   \n3    50.0        1                       111         0                 20   \n4    65.0        1                       160         1                 20   \n..    ...      ...                       ...       ...                ...   \n294  62.0        0                        61         1                 38   \n295  55.0        0                      1820         0                 38   \n296  45.0        0                      2060         1                 60   \n297  45.0        0                      2413         0                 38   \n298  50.0        0                       196         0                 45   \n\n     high_blood_pressure  platelets  serum_creatinine  serum_sodium  sex  \\\n0                      1  265000.00               1.9           130    1   \n1                      0  263358.03               1.1           136    1   \n2                      0  162000.00               1.3           129    1   \n3                      0  210000.00               1.9           137    1   \n4                      0  327000.00               2.7           116    0   \n..                   ...        ...               ...           ...  ...   \n294                    1  155000.00               1.1           143    1   \n295                    0  270000.00               1.2           139    0   \n296                    0  742000.00               0.8           138    0   \n297                    0  140000.00               1.4           140    1   \n298                    0  395000.00               1.6           136    1   \n\n     smoking  time  DEATH_EVENT  \n0          0     4            1  \n1          0     6            1  \n2          1     7            1  \n3          0     7            1  \n4          0     8            1  \n..       ...   ...          ...  \n294        1   270            0  \n295        0   271            0  \n296        0   278            0  \n297        1   280            0  \n298        1   285            0  \n\n[299 rows x 13 columns]",
            "text/html": "<div>\n<style scoped>\n    .dataframe tbody tr th:only-of-type {\n        vertical-align: middle;\n    }\n\n    .dataframe tbody tr th {\n        vertical-align: top;\n    }\n\n    .dataframe thead th {\n        text-align: right;\n    }\n</style>\n<table border=\"1\" class=\"dataframe\">\n  <thead>\n    <tr style=\"text-align: right;\">\n      <th></th>\n      <th>age</th>\n      <th>anaemia</th>\n      <th>creatinine_phosphokinase</th>\n      <th>diabetes</th>\n      <th>ejection_fraction</th>\n      <th>high_blood_pressure</th>\n      <th>platelets</th>\n      <th>serum_creatinine</th>\n      <th>serum_sodium</th>\n      <th>sex</th>\n      <th>smoking</th>\n      <th>time</th>\n      <th>DEATH_EVENT</th>\n    </tr>\n  </thead>\n  <tbody>\n    <tr>\n      <th>0</th>\n      <td>75.0</td>\n      <td>0</td>\n      <td>582</td>\n      <td>0</td>\n      <td>20</td>\n      <td>1</td>\n      <td>265000.00</td>\n      <td>1.9</td>\n      <td>130</td>\n      <td>1</td>\n      <td>0</td>\n      <td>4</td>\n      <td>1</td>\n    </tr>\n    <tr>\n      <th>1</th>\n      <td>55.0</td>\n      <td>0</td>\n      <td>7861</td>\n      <td>0</td>\n      <td>38</td>\n      <td>0</td>\n      <td>263358.03</td>\n      <td>1.1</td>\n      <td>136</td>\n      <td>1</td>\n      <td>0</td>\n      <td>6</td>\n      <td>1</td>\n    </tr>\n    <tr>\n      <th>2</th>\n      <td>65.0</td>\n      <td>0</td>\n      <td>146</td>\n      <td>0</td>\n      <td>20</td>\n      <td>0</td>\n      <td>162000.00</td>\n      <td>1.3</td>\n      <td>129</td>\n      <td>1</td>\n      <td>1</td>\n      <td>7</td>\n      <td>1</td>\n    </tr>\n    <tr>\n      <th>3</th>\n      <td>50.0</td>\n      <td>1</td>\n      <td>111</td>\n      <td>0</td>\n      <td>20</td>\n      <td>0</td>\n      <td>210000.00</td>\n      <td>1.9</td>\n      <td>137</td>\n      <td>1</td>\n      <td>0</td>\n      <td>7</td>\n      <td>1</td>\n    </tr>\n    <tr>\n      <th>4</th>\n      <td>65.0</td>\n      <td>1</td>\n      <td>160</td>\n      <td>1</td>\n      <td>20</td>\n      <td>0</td>\n      <td>327000.00</td>\n      <td>2.7</td>\n      <td>116</td>\n      <td>0</td>\n      <td>0</td>\n      <td>8</td>\n      <td>1</td>\n    </tr>\n    <tr>\n      <th>...</th>\n      <td>...</td>\n      <td>...</td>\n      <td>...</td>\n      <td>...</td>\n      <td>...</td>\n      <td>...</td>\n      <td>...</td>\n      <td>...</td>\n      <td>...</td>\n      <td>...</td>\n      <td>...</td>\n      <td>...</td>\n      <td>...</td>\n    </tr>\n    <tr>\n      <th>294</th>\n      <td>62.0</td>\n      <td>0</td>\n      <td>61</td>\n      <td>1</td>\n      <td>38</td>\n      <td>1</td>\n      <td>155000.00</td>\n      <td>1.1</td>\n      <td>143</td>\n      <td>1</td>\n      <td>1</td>\n      <td>270</td>\n      <td>0</td>\n    </tr>\n    <tr>\n      <th>295</th>\n      <td>55.0</td>\n      <td>0</td>\n      <td>1820</td>\n      <td>0</td>\n      <td>38</td>\n      <td>0</td>\n      <td>270000.00</td>\n      <td>1.2</td>\n      <td>139</td>\n      <td>0</td>\n      <td>0</td>\n      <td>271</td>\n      <td>0</td>\n    </tr>\n    <tr>\n      <th>296</th>\n      <td>45.0</td>\n      <td>0</td>\n      <td>2060</td>\n      <td>1</td>\n      <td>60</td>\n      <td>0</td>\n      <td>742000.00</td>\n      <td>0.8</td>\n      <td>138</td>\n      <td>0</td>\n      <td>0</td>\n      <td>278</td>\n      <td>0</td>\n    </tr>\n    <tr>\n      <th>297</th>\n      <td>45.0</td>\n      <td>0</td>\n      <td>2413</td>\n      <td>0</td>\n      <td>38</td>\n      <td>0</td>\n      <td>140000.00</td>\n      <td>1.4</td>\n      <td>140</td>\n      <td>1</td>\n      <td>1</td>\n      <td>280</td>\n      <td>0</td>\n    </tr>\n    <tr>\n      <th>298</th>\n      <td>50.0</td>\n      <td>0</td>\n      <td>196</td>\n      <td>0</td>\n      <td>45</td>\n      <td>0</td>\n      <td>395000.00</td>\n      <td>1.6</td>\n      <td>136</td>\n      <td>1</td>\n      <td>1</td>\n      <td>285</td>\n      <td>0</td>\n    </tr>\n  </tbody>\n</table>\n<p>299 rows × 13 columns</p>\n</div>"
          },
          "metadata": {}
        }
      ],
      "execution_count": 17,
      "metadata": {
        "jupyter": {
          "source_hidden": false,
          "outputs_hidden": false
        },
        "nteract": {
          "transient": {
            "deleting": false
          }
        },
        "gather": {
          "logged": 1688994453732
        }
      }
    },
    {
      "cell_type": "code",
      "source": [
        "ws = Workspace.from_config()\n",
        "\n",
        "# choose a name for experiment\n",
        "experiment_name = 'auto-ml'\n",
        "\n",
        "experiment=Experiment(ws, experiment_name)"
      ],
      "outputs": [],
      "execution_count": 18,
      "metadata": {
        "gather": {
          "logged": 1688994463434
        },
        "jupyter": {
          "outputs_hidden": false,
          "source_hidden": false
        },
        "nteract": {
          "transient": {
            "deleting": false
          }
        }
      }
    },
    {
      "cell_type": "markdown",
      "source": [
        "## AutoML Configuration\n",
        "\n",
        "TODO: Explain why you chose the automl settings and cofiguration you used below."
      ],
      "metadata": {}
    },
    {
      "cell_type": "code",
      "source": [
        "automl_settings = {\n",
        "    \"experiment_timeout_minutes\": 20,\n",
        "    \"max_concurrent_iterations\": 5,\n",
        "    \"primary_metric\" : 'AUC_weighted'\n",
        "}\n",
        "\n",
        "automl_config = AutoMLConfig(compute_target=compute_target,\n",
        "                             task = \"classification\",\n",
        "                             training_data=dataset,\n",
        "                             label_column_name=\"DEATH_EVENT\",   \n",
        "                             enable_early_stopping= True,\n",
        "                             featurization= 'auto',\n",
        "                             **automl_settings\n",
        "                            )\n"
      ],
      "outputs": [],
      "execution_count": 20,
      "metadata": {
        "gather": {
          "logged": 1688994509772
        },
        "jupyter": {
          "outputs_hidden": false,
          "source_hidden": false
        },
        "nteract": {
          "transient": {
            "deleting": false
          }
        }
      }
    },
    {
      "cell_type": "code",
      "source": [
        "# TODO: Submit your experiment\n",
        "remote_run = experiment.submit(automl_config)"
      ],
      "outputs": [
        {
          "output_type": "stream",
          "name": "stdout",
          "text": "Submitting remote run.\n"
        },
        {
          "output_type": "display_data",
          "data": {
            "text/plain": "<IPython.core.display.HTML object>",
            "text/html": "<table style=\"width:100%\"><tr><th>Experiment</th><th>Id</th><th>Type</th><th>Status</th><th>Details Page</th><th>Docs Page</th></tr><tr><td>auto-ml</td><td>AutoML_93431f70-da04-4032-982b-67c9c9eb3449</td><td>automl</td><td>NotStarted</td><td><a href=\"https://ml.azure.com/runs/AutoML_93431f70-da04-4032-982b-67c9c9eb3449?wsid=/subscriptions/48a74bb7-9950-4cc1-9caa-5d50f995cc55/resourcegroups/aml-quickstarts-238485/workspaces/quick-starts-ws-238485&amp;tid=660b3398-b80e-49d2-bc5b-ac1dc93b5254\" target=\"_blank\" rel=\"noopener\">Link to Azure Machine Learning studio</a></td><td><a href=\"https://docs.microsoft.com/en-us/python/api/overview/azure/ml/intro?view=azure-ml-py\" target=\"_blank\" rel=\"noopener\">Link to Documentation</a></td></tr></table>"
          },
          "metadata": {}
        }
      ],
      "execution_count": 21,
      "metadata": {
        "gather": {
          "logged": 1688994515954
        },
        "jupyter": {
          "outputs_hidden": false,
          "source_hidden": false
        },
        "nteract": {
          "transient": {
            "deleting": false
          }
        }
      }
    },
    {
      "cell_type": "markdown",
      "source": [
        "## Run Details\n",
        "\n",
        "OPTIONAL: Write about the different models trained and their performance. Why do you think some models did better than others?\n",
        "\n",
        "TODO: In the cell below, use the `RunDetails` widget to show the different experiments."
      ],
      "metadata": {}
    },
    {
      "cell_type": "code",
      "source": [
        "from azureml.widgets import RunDetails\r\n",
        "RunDetails(remote_run).show()"
      ],
      "outputs": [
        {
          "output_type": "display_data",
          "data": {
            "text/plain": "_AutoMLWidget(widget_settings={'childWidgetDisplay': 'popup', 'send_telemetry': False, 'log_level': 'INFO', 's…",
            "application/vnd.jupyter.widget-view+json": {
              "version_major": 2,
              "version_minor": 0,
              "model_id": "1743d8921f884008bdc97369c97756ba"
            }
          },
          "metadata": {}
        },
        {
          "output_type": "display_data",
          "data": {
            "application/aml.mini.widget.v1": "{\"status\": \"Completed\", \"workbench_run_details_uri\": \"https://ml.azure.com/runs/AutoML_93431f70-da04-4032-982b-67c9c9eb3449?wsid=/subscriptions/48a74bb7-9950-4cc1-9caa-5d50f995cc55/resourcegroups/aml-quickstarts-238485/workspaces/quick-starts-ws-238485&tid=660b3398-b80e-49d2-bc5b-ac1dc93b5254\", \"run_id\": \"AutoML_93431f70-da04-4032-982b-67c9c9eb3449\", \"run_properties\": {\"run_id\": \"AutoML_93431f70-da04-4032-982b-67c9c9eb3449\", \"created_utc\": \"2023-07-10T13:08:34.732492Z\", \"properties\": {\"num_iterations\": \"1000\", \"training_type\": \"TrainFull\", \"acquisition_function\": \"EI\", \"primary_metric\": \"AUC_weighted\", \"train_split\": \"0\", \"acquisition_parameter\": \"0\", \"num_cross_validation\": null, \"target\": \"auto-ml\", \"AMLSettingsJsonString\": \"{\\\"path\\\":null,\\\"name\\\":\\\"auto-ml\\\",\\\"subscription_id\\\":\\\"48a74bb7-9950-4cc1-9caa-5d50f995cc55\\\",\\\"resource_group\\\":\\\"aml-quickstarts-238485\\\",\\\"workspace_name\\\":\\\"quick-starts-ws-238485\\\",\\\"region\\\":\\\"westus2\\\",\\\"compute_target\\\":\\\"auto-ml\\\",\\\"spark_service\\\":null,\\\"azure_service\\\":\\\"remote\\\",\\\"many_models\\\":false,\\\"pipeline_fetch_max_batch_size\\\":1,\\\"enable_batch_run\\\":true,\\\"enable_parallel_run\\\":false,\\\"num_procs\\\":null,\\\"enable_run_restructure\\\":false,\\\"start_auxiliary_runs_before_parent_complete\\\":false,\\\"enable_code_generation\\\":true,\\\"iterations\\\":1000,\\\"primary_metric\\\":\\\"AUC_weighted\\\",\\\"task_type\\\":\\\"classification\\\",\\\"positive_label\\\":null,\\\"data_script\\\":null,\\\"test_size\\\":0.0,\\\"test_include_predictions_only\\\":false,\\\"validation_size\\\":0.0,\\\"n_cross_validations\\\":null,\\\"y_min\\\":null,\\\"y_max\\\":null,\\\"num_classes\\\":null,\\\"featurization\\\":\\\"auto\\\",\\\"_ignore_package_version_incompatibilities\\\":false,\\\"is_timeseries\\\":false,\\\"max_cores_per_iteration\\\":1,\\\"max_concurrent_iterations\\\":5,\\\"iteration_timeout_minutes\\\":null,\\\"mem_in_mb\\\":null,\\\"enforce_time_on_windows\\\":false,\\\"experiment_timeout_minutes\\\":20,\\\"experiment_exit_score\\\":null,\\\"partition_column_names\\\":null,\\\"whitelist_models\\\":null,\\\"blacklist_algos\\\":[\\\"TensorFlowLinearClassifier\\\",\\\"TensorFlowDNN\\\"],\\\"supported_models\\\":[\\\"MultinomialNaiveBayes\\\",\\\"ExtremeRandomTrees\\\",\\\"XGBoostClassifier\\\",\\\"AveragedPerceptronClassifier\\\",\\\"LogisticRegression\\\",\\\"BernoulliNaiveBayes\\\",\\\"GradientBoosting\\\",\\\"KNN\\\",\\\"TabnetClassifier\\\",\\\"SGD\\\",\\\"TensorFlowLinearClassifier\\\",\\\"RandomForest\\\",\\\"LightGBM\\\",\\\"LinearSVM\\\",\\\"SVM\\\",\\\"DecisionTree\\\",\\\"TensorFlowDNN\\\"],\\\"private_models\\\":[],\\\"auto_blacklist\\\":true,\\\"blacklist_samples_reached\\\":false,\\\"exclude_nan_labels\\\":true,\\\"verbosity\\\":20,\\\"_debug_log\\\":\\\"azureml_automl.log\\\",\\\"show_warnings\\\":false,\\\"model_explainability\\\":true,\\\"service_url\\\":null,\\\"sdk_url\\\":null,\\\"sdk_packages\\\":null,\\\"enable_onnx_compatible_models\\\":false,\\\"enable_split_onnx_featurizer_estimator_models\\\":false,\\\"vm_type\\\":\\\"STANDARD_D2_V2\\\",\\\"telemetry_verbosity\\\":20,\\\"send_telemetry\\\":true,\\\"enable_dnn\\\":false,\\\"scenario\\\":\\\"AutoML\\\",\\\"environment_label\\\":null,\\\"save_mlflow\\\":false,\\\"enable_categorical_indicators\\\":false,\\\"force_text_dnn\\\":false,\\\"enable_feature_sweeping\\\":true,\\\"enable_early_stopping\\\":true,\\\"early_stopping_n_iters\\\":10,\\\"arguments\\\":null,\\\"dataset_id\\\":\\\"f2599ba4-2a86-4ec5-9dd6-03d7bf8c5495\\\",\\\"hyperdrive_config\\\":null,\\\"validation_dataset_id\\\":null,\\\"run_source\\\":null,\\\"metrics\\\":null,\\\"enable_metric_confidence\\\":false,\\\"enable_ensembling\\\":true,\\\"enable_stack_ensembling\\\":true,\\\"ensemble_iterations\\\":15,\\\"enable_tf\\\":false,\\\"enable_subsampling\\\":null,\\\"subsample_seed\\\":null,\\\"enable_nimbusml\\\":false,\\\"enable_streaming\\\":false,\\\"force_streaming\\\":false,\\\"track_child_runs\\\":true,\\\"n_best_runs\\\":1,\\\"allowed_private_models\\\":[],\\\"label_column_name\\\":\\\"DEATH_EVENT\\\",\\\"weight_column_name\\\":null,\\\"cv_split_column_names\\\":null,\\\"enable_local_managed\\\":false,\\\"_local_managed_run_id\\\":null,\\\"cost_mode\\\":1,\\\"lag_length\\\":0,\\\"metric_operation\\\":\\\"maximize\\\",\\\"preprocess\\\":true}\", \"DataPrepJsonString\": \"{\\\\\\\"training_data\\\\\\\": {\\\\\\\"datasetId\\\\\\\": \\\\\\\"f2599ba4-2a86-4ec5-9dd6-03d7bf8c5495\\\\\\\"}, \\\\\\\"datasets\\\\\\\": 0}\", \"EnableSubsampling\": null, \"runTemplate\": \"AutoML\", \"azureml.runsource\": \"automl\", \"display_task_type\": \"classification\", \"dependencies_versions\": \"{\\\"azureml-widgets\\\": \\\"1.49.0\\\", \\\"azureml-training-tabular\\\": \\\"1.49.0\\\", \\\"azureml-train\\\": \\\"1.49.0\\\", \\\"azureml-train-restclients-hyperdrive\\\": \\\"1.49.0\\\", \\\"azureml-train-core\\\": \\\"1.49.0\\\", \\\"azureml-train-automl\\\": \\\"1.49.0\\\", \\\"azureml-train-automl-runtime\\\": \\\"1.49.0\\\", \\\"azureml-train-automl-client\\\": \\\"1.49.0\\\", \\\"azureml-tensorboard\\\": \\\"1.49.0\\\", \\\"azureml-telemetry\\\": \\\"1.49.0\\\", \\\"azureml-sdk\\\": \\\"1.49.0\\\", \\\"azureml-responsibleai\\\": \\\"1.49.0\\\", \\\"azureml-pipeline\\\": \\\"1.49.0\\\", \\\"azureml-pipeline-steps\\\": \\\"1.49.0\\\", \\\"azureml-pipeline-core\\\": \\\"1.49.0\\\", \\\"azureml-opendatasets\\\": \\\"1.49.0\\\", \\\"azureml-mlflow\\\": \\\"1.49.0\\\", \\\"azureml-interpret\\\": \\\"1.49.0\\\", \\\"azureml-inference-server-http\\\": \\\"0.8.0\\\", \\\"azureml-explain-model\\\": \\\"1.49.0\\\", \\\"azureml-defaults\\\": \\\"1.49.0\\\", \\\"azureml-dataset-runtime\\\": \\\"1.49.0\\\", \\\"azureml-dataprep\\\": \\\"4.9.1\\\", \\\"azureml-dataprep-rslex\\\": \\\"2.16.1\\\", \\\"azureml-dataprep-native\\\": \\\"38.0.0\\\", \\\"azureml-datadrift\\\": \\\"1.49.0\\\", \\\"azureml-core\\\": \\\"1.49.0\\\", \\\"azureml-contrib-services\\\": \\\"1.49.0\\\", \\\"azureml-contrib-server\\\": \\\"1.49.0\\\", \\\"azureml-contrib-reinforcementlearning\\\": \\\"1.49.0\\\", \\\"azureml-contrib-pipeline-steps\\\": \\\"1.49.0\\\", \\\"azureml-contrib-notebook\\\": \\\"1.49.0\\\", \\\"azureml-contrib-fairness\\\": \\\"1.49.0\\\", \\\"azureml-contrib-dataset\\\": \\\"1.49.0\\\", \\\"azureml-contrib-automl-pipeline-steps\\\": \\\"1.49.0\\\", \\\"azureml-cli-common\\\": \\\"1.49.0\\\", \\\"azureml-automl-runtime\\\": \\\"1.49.0\\\", \\\"azureml-automl-dnn-nlp\\\": \\\"1.49.0\\\", \\\"azureml-automl-core\\\": \\\"1.49.0\\\", \\\"azureml-accel-models\\\": \\\"1.49.0\\\"}\", \"_aml_system_scenario_identification\": \"Remote.Parent\", \"ClientType\": \"SDK\", \"PlatformVersion\": \"DPV1\", \"environment_cpu_name\": \"AzureML-AutoML\", \"environment_cpu_label\": \"prod\", \"environment_gpu_name\": \"AzureML-AutoML-GPU\", \"environment_gpu_label\": \"prod\", \"root_attribution\": \"automl\", \"attribution\": \"AutoML\", \"Orchestrator\": \"AutoML\", \"CancelUri\": \"https://westus2.api.azureml.ms/jasmine/v1.0/subscriptions/48a74bb7-9950-4cc1-9caa-5d50f995cc55/resourceGroups/aml-quickstarts-238485/providers/Microsoft.MachineLearningServices/workspaces/quick-starts-ws-238485/experimentids/3be352b0-18c7-428b-ad0d-4d3928ae97da/cancel/AutoML_93431f70-da04-4032-982b-67c9c9eb3449\", \"ClientSdkVersion\": null, \"snapshotId\": \"00000000-0000-0000-0000-000000000000\", \"SetupRunId\": \"AutoML_93431f70-da04-4032-982b-67c9c9eb3449_setup\", \"SetupRunContainerId\": \"dcid.AutoML_93431f70-da04-4032-982b-67c9c9eb3449_setup\", \"FeaturizationRunJsonPath\": \"featurizer_container.json\", \"FeaturizationRunId\": \"AutoML_93431f70-da04-4032-982b-67c9c9eb3449_featurize\", \"ProblemInfoJsonString\": \"{\\\"dataset_num_categorical\\\": 0, \\\"is_sparse\\\": false, \\\"subsampling\\\": false, \\\"has_extra_col\\\": true, \\\"dataset_classes\\\": 2, \\\"dataset_features\\\": 12, \\\"dataset_samples\\\": 299, \\\"single_frequency_class_detected\\\": false}\", \"ModelExplainRunId\": \"AutoML_93431f70-da04-4032-982b-67c9c9eb3449_ModelExplain\"}, \"tags\": {\"model_explain_run\": \"best_run\", \"_aml_system_automl_run_workspace_id\": \"7559d9dc-9051-44e8-99f2-7cc575ecd96f\", \"_aml_system_azureml.automlComponent\": \"AutoML\", \"pipeline_id_000\": \"5dfac790c5c209f98a1da2dc1c7fb76f0397324f;c7af0367625be6ac5c2fecbfc72ed444cb7a2111;51ae05309834b29f71340af1008fc94fbd8213f4;ce2643edf3d450b10c86c7d034a9bc952dc282d3;039a99c3d5147edeb525249e2660628be3e8b83f;a18bd1af1629e8f96b25a32ac94e62b3bd9a9605;a3dadd95854bf6116ab454844302b51d417d78b7;1dfdf370ba770047b14bfa59c40920815defcdab;294650ec23bc3d067a4972de7ceb12f6e97260fa;e92a63ad06df7b68a48ce96c06fad3fbf2a25ce2;634afb4b36be9286ca21289f56b5f7cdf1c72fa9;5bc24cef89e67ee668d55e59548e1032cfbc7f0f;4f207270c6817858b81b8050f1efa1d0053db52e;b983b703e4d6dbffd4a815a4d1c2ed94225c5027;516a24fb1445632ecf04366c17b960ce157878b3;7ea0a64582be36507254a026ac98e9a5a49e1f34;088b94df63b852cc8cba96bb2fa191ce8d1ef2e5;681a59302459aec2cc115ddbc14e1d28f4b3b8df;6f4a466f84f725a47910c1dff062a1bb46df2a21;dea7fdbaedc77258dbfe31dbfed41e768ca38939;c74787cd2f0507b852a1ac70d504d83ac9bdec83;a72eb56f3d4aadb7b7f0149ba6e5f05657a95ca1;1e38ae92baee19b18f211a8b14c16015d5ee3dc3;9610149fbcf43017aa810a290e9c04cbe6fa8684;79ebb3b8c385e3190e3dd4c1fa28b74730528045;a7434e890cabef86b0ce4ae71fb633e1e92b854d;dd3e4dc5ec6157b2d4a917d02659b2946c1df9a6;18df6f7c8ab9671ee27b80e6edc9861a31350e57;3856cbbc7244eed4f1a37e49e295dc62a83a0a0e;de5498303022d1619f483f3eee6fec99beb02365;64acdcfdd659727d2ed357d5fd6012aa4ad095de;8de5803b9242c9b2993f0c15f0730a5f73346840;74f74c4bf8717cc69e8422ff75923caf8873d95c;59892f7d9a9c7b3c2546f4ece092663a710c584a;5f0f8cfce1da255f202e033e1c7bec29d7330e80;530b0be4bd09c1c6f5ad6061c0b23da7ccc2dd83;b61a121764cc67353f95c5a0373ef6e267666397;29bc8d6fa1d9b6ea0fc16105ec32c2b74d6bb219;83ec99dc43ca43269a106d17d93888fab41b7568;c3d103be37950927e904ccd2e18da8dc7a3854c0;efb83411cbf8a8a4ef9a9fbfa3fd8a14d3c3a84a;1b15d2b0555786710b712c280c8306853abd0e15;fdbc97d2aa518cf480afab56950545db1d6204ee;5782925d472687c3493529dd05c0de6a441d6cf3;__AutoML_Ensemble__;__AutoML_Stack_Ensemble__\", \"score_000\": \"0.8952333600250076;0.8991812818442682;0.8887647905996877;0.8921548690291825;0.9028265218381921;0.5058572603005097;0.8745696242692811;0.8874039180075792;0.896011277094801;0.8332658768957968;0.7464011599733854;0.8970975449163092;0.906545496041377;0.8857534266606348;0.8638387105774978;0.9018612551360837;0.7996258755419511;0.8974392617743303;0.8808186107286222;0.8775077076749845;0.8960912485429647;0.9117706123702979;0.867422648766184;0.9025807023597642;0.809288357201744;0.915183420205102;0.8877574707519788;0.8961387951928568;0.9007338212131117;0.8680974409838825;0.7631786821439854;0.8987944050673455;0.8807070010335456;0.8832327473822896;0.8798718818896164;0.5358796296296295;0.9001486318177966;0.9031523249824167;0.8973492668319899;0.901434673310417;0.7038363530697627;NaN;NaN;0.9043429597819758;0.919739417273971;0.9131779028158891\", \"predicted_cost_000\": \"0;0;0.5;0.5;0.5;0.5;0.5;0.5;0.5;0.5;0.5;0.5;0.5;0.5;0.5;0.5;0.5;0.5;0.5;0.5;0.04326912888671428;0.020827453472534212;0.15416923156930132;0.10549636065503878;0.04465206374091404;0.3972439500751155;0.04746294107739429;0.06306126922550251;0.022183521900895137;0.2035892560051479;0.03862435069309899;0.05172435262897455;0.023872575653650946;0.19952465627104166;0.1807961963934428;0.039529931205728834;0.08144578712018476;0.06997455178728385;0.05986979038538021;0.20824830627329594;0.10172007247200934;0.017486109358970454;0.0767442789520207;0.04863854593538664;0;0\", \"fit_time_000\": \"0.0503968;0.07521139999999998;0.0296506;0.023316700000000003;0.0118794;0.0102613;0.0171867;0.246018;0.015728299999999997;0.014832500000000002;0.008271699999999998;0.08845529999999999;0.12073099999999999;0.0494315;0.041821399999999995;0.05691;0.0218714;0.021803499999999996;0.015102800000000003;0.6392459999999999;0.0261463;0.22245879999999998;0.0437828;0.032151400000000004;0.06663860000000002;0.33654930000000005;0.0825212;0.2320492;0.021162800000000002;0.42306990000000005;0.0783718;0.026434999999999997;0.025001199999999994;0.1222574;0.100934;0.034525900000000005;0.0599287;0.0877589;0.113872;0.0793609;0.08623700000000001;NaN;NaN;0.0720374;45;52\", \"training_percent_000\": \"100;100;100;100;100;100;100;100;100;100;100;100;100;100;100;100;100;100;100;100;100;100;100;100;100;100;100;100;100;100;100;100;100;100;100;100;100;100;100;100;100;100;100;100;100;100\", \"iteration_000\": \"0;1;2;3;4;5;6;7;12;8;13;9;16;14;10;17;11;15;18;19;20;21;23;22;24;25;26;27;29;28;30;31;32;34;33;35;36;37;38;39;40;43;42;41;44;45\", \"run_preprocessor_000\": \"MaxAbsScaler;MaxAbsScaler;MaxAbsScaler;MaxAbsScaler;StandardScalerWrapper;StandardScalerWrapper;SparseNormalizer;SparseNormalizer;StandardScalerWrapper;RobustScaler;SparseNormalizer;MinMaxScaler;MinMaxScaler;RobustScaler;StandardScalerWrapper;MinMaxScaler;StandardScalerWrapper;SparseNormalizer;SparseNormalizer;MaxAbsScaler;StandardScalerWrapper;StandardScalerWrapper;MaxAbsScaler;MaxAbsScaler;StandardScalerWrapper;StandardScalerWrapper;StandardScalerWrapper;MinMaxScaler;MaxAbsScaler;StandardScalerWrapper;RobustScaler;RobustScaler;SparseNormalizer;StandardScalerWrapper;StandardScalerWrapper;SparseNormalizer;StandardScalerWrapper;StandardScalerWrapper;MinMaxScaler;StandardScalerWrapper;TruncatedSVDWrapper;;;StandardScalerWrapper;;\", \"run_algorithm_000\": \"LightGBM;XGBoostClassifier;ExtremeRandomTrees;RandomForest;LightGBM;KNN;XGBoostClassifier;RandomForest;XGBoostClassifier;KNN;KNN;RandomForest;ExtremeRandomTrees;ExtremeRandomTrees;LogisticRegression;ExtremeRandomTrees;SVM;XGBoostClassifier;LightGBM;ExtremeRandomTrees;XGBoostClassifier;RandomForest;LogisticRegression;LightGBM;ExtremeRandomTrees;ExtremeRandomTrees;XGBoostClassifier;RandomForest;LightGBM;ExtremeRandomTrees;ExtremeRandomTrees;LightGBM;LightGBM;LightGBM;LightGBM;ExtremeRandomTrees;XGBoostClassifier;XGBoostClassifier;LightGBM;XGBoostClassifier;ExtremeRandomTrees;;;XGBoostClassifier;VotingEnsemble;StackEnsemble\", \"dynamic_allowlisting_iterations\": \"<24>;<30>;<35>;<40>;\", \"_aml_system_azureml.automl_early_exit_message\": \"No scores improved over last 10 iterations, so experiment stopped early. This early stopping behavior can be disabled by setting enable_early_stopping = False in AutoMLConfig for notebook/python SDK runs.\", \"automl_best_child_run_id\": \"AutoML_93431f70-da04-4032-982b-67c9c9eb3449_44\", \"model_explain_best_run_child_id\": \"AutoML_93431f70-da04-4032-982b-67c9c9eb3449_44\"}, \"end_time_utc\": \"2023-07-10T13:25:43.614311Z\", \"status\": \"Completed\", \"log_files\": {}, \"log_groups\": [], \"run_duration\": \"0:17:08\", \"run_number\": \"1688994514\", \"run_queued_details\": {\"status\": \"Completed\", \"details\": null}}, \"child_runs\": [{\"run_id\": \"AutoML_93431f70-da04-4032-982b-67c9c9eb3449_setup\", \"run_number\": 1688994527, \"metric\": null, \"status\": \"Completed\", \"run_type\": \"azureml.scriptrun\", \"training_percent\": null, \"start_time\": \"2023-07-10T13:11:31.155915Z\", \"end_time\": \"2023-07-10T13:13:48.783066Z\", \"created_time\": \"2023-07-10T13:08:47.409606Z\", \"created_time_dt\": \"2023-07-10T13:08:47.409606Z\", \"duration\": \"0:05:01\", \"iteration\": null, \"goal\": null, \"run_name\": \"Completed\", \"run_properties\": null}, {\"run_id\": \"AutoML_93431f70-da04-4032-982b-67c9c9eb3449_featurize\", \"run_number\": 1688994829, \"metric\": null, \"status\": \"Completed\", \"run_type\": \"automl.featurization\", \"training_percent\": null, \"start_time\": \"2023-07-10T13:13:49.427248Z\", \"end_time\": \"2023-07-10T13:14:39.762584Z\", \"created_time\": \"2023-07-10T13:13:49.068901Z\", \"created_time_dt\": \"2023-07-10T13:13:49.068901Z\", \"duration\": \"0:00:50\", \"iteration\": null, \"goal\": null, \"run_name\": \"Completed\", \"run_properties\": null}, {\"run_id\": \"AutoML_93431f70-da04-4032-982b-67c9c9eb3449_0\", \"run_number\": 1688994881, \"metric\": null, \"status\": \"Completed\", \"run_type\": null, \"training_percent\": \"100\", \"start_time\": \"2023-07-10T13:15:07.728428Z\", \"end_time\": \"2023-07-10T13:15:23.27198Z\", \"created_time\": \"2023-07-10T13:14:41.141596Z\", \"created_time_dt\": \"2023-07-10T13:14:41.141596Z\", \"duration\": \"0:00:42\", \"iteration\": \"0\", \"goal\": \"AUC_weighted_max\", \"run_name\": \"MaxAbsScaler, LightGBM\", \"run_properties\": \"copy=True\", \"primary_metric\": 0.89523336, \"best_metric\": 0.89523336}, {\"run_id\": \"AutoML_93431f70-da04-4032-982b-67c9c9eb3449_worker_0\", \"run_number\": 1688994882, \"metric\": null, \"status\": \"Completed\", \"run_type\": \"azureml.scriptrun\", \"training_percent\": null, \"start_time\": \"2023-07-10T13:14:53.097177Z\", \"end_time\": \"2023-07-10T13:16:16.063809Z\", \"created_time\": \"2023-07-10T13:14:42.581043Z\", \"created_time_dt\": \"2023-07-10T13:14:42.581043Z\", \"duration\": \"0:01:33\", \"iteration\": null, \"goal\": null, \"run_name\": \"Completed\", \"run_properties\": null}, {\"run_id\": \"AutoML_93431f70-da04-4032-982b-67c9c9eb3449_5\", \"run_number\": 1688994883, \"metric\": null, \"status\": \"Completed\", \"run_type\": null, \"training_percent\": \"100\", \"start_time\": \"2023-07-10T13:16:44.514123Z\", \"end_time\": \"2023-07-10T13:16:57.381293Z\", \"created_time\": \"2023-07-10T13:14:43.130355Z\", \"created_time_dt\": \"2023-07-10T13:14:43.130355Z\", \"duration\": \"0:02:14\", \"iteration\": \"5\", \"goal\": \"AUC_weighted_max\", \"run_name\": \"StandardScalerWrapper, KNN\", \"run_properties\": \"copy=True, with_mean=True, with_std=False\", \"primary_metric\": 0.50585726, \"best_metric\": 0.89523336}, {\"run_id\": \"AutoML_93431f70-da04-4032-982b-67c9c9eb3449_worker_1\", \"run_number\": 1688994884, \"metric\": null, \"status\": \"Completed\", \"run_type\": \"azureml.scriptrun\", \"training_percent\": null, \"start_time\": \"2023-07-10T13:16:17.419769Z\", \"end_time\": \"2023-07-10T13:17:36.278992Z\", \"created_time\": \"2023-07-10T13:14:44.18754Z\", \"created_time_dt\": \"2023-07-10T13:14:44.18754Z\", \"duration\": \"0:02:52\", \"iteration\": null, \"goal\": null, \"run_name\": \"Completed\", \"run_properties\": null}, {\"run_id\": \"AutoML_93431f70-da04-4032-982b-67c9c9eb3449_worker_2\", \"run_number\": 1688994885, \"metric\": null, \"status\": \"Completed\", \"run_type\": \"azureml.scriptrun\", \"training_percent\": null, \"start_time\": \"2023-07-10T13:17:16.59749Z\", \"end_time\": \"2023-07-10T13:20:02.970559Z\", \"created_time\": \"2023-07-10T13:14:45.804086Z\", \"created_time_dt\": \"2023-07-10T13:14:45.804086Z\", \"duration\": \"0:05:17\", \"iteration\": null, \"goal\": null, \"run_name\": \"Completed\", \"run_properties\": null}, {\"run_id\": \"AutoML_93431f70-da04-4032-982b-67c9c9eb3449_13\", \"run_number\": 1688994886, \"metric\": null, \"status\": \"Completed\", \"run_type\": null, \"training_percent\": \"100\", \"start_time\": \"2023-07-10T13:19:15.821501Z\", \"end_time\": \"2023-07-10T13:19:27.400729Z\", \"created_time\": \"2023-07-10T13:14:46.34816Z\", \"created_time_dt\": \"2023-07-10T13:14:46.34816Z\", \"duration\": \"0:04:41\", \"iteration\": \"13\", \"goal\": \"AUC_weighted_max\", \"run_name\": \"SparseNormalizer, KNN\", \"run_properties\": \"copy=True, norm='max'\", \"primary_metric\": 0.74640116, \"best_metric\": 0.89523336}, {\"run_id\": \"AutoML_93431f70-da04-4032-982b-67c9c9eb3449_worker_3\", \"run_number\": 1688994887, \"metric\": null, \"status\": \"Completed\", \"run_type\": \"azureml.scriptrun\", \"training_percent\": null, \"start_time\": \"2023-07-10T13:17:17.022108Z\", \"end_time\": \"2023-07-10T13:20:01.121493Z\", \"created_time\": \"2023-07-10T13:14:47.389949Z\", \"created_time_dt\": \"2023-07-10T13:14:47.389949Z\", \"duration\": \"0:05:13\", \"iteration\": null, \"goal\": null, \"run_name\": \"Completed\", \"run_properties\": null}, {\"run_id\": \"AutoML_93431f70-da04-4032-982b-67c9c9eb3449_worker_4\", \"run_number\": 1688994888, \"metric\": null, \"status\": \"Completed\", \"run_type\": \"azureml.scriptrun\", \"training_percent\": null, \"start_time\": \"2023-07-10T13:17:29.075689Z\", \"end_time\": \"2023-07-10T13:20:35.348042Z\", \"created_time\": \"2023-07-10T13:14:48.911402Z\", \"created_time_dt\": \"2023-07-10T13:14:48.911402Z\", \"duration\": \"0:05:46\", \"iteration\": null, \"goal\": null, \"run_name\": \"Completed\", \"run_properties\": null}, {\"run_id\": \"AutoML_93431f70-da04-4032-982b-67c9c9eb3449_20\", \"run_number\": 1688995194, \"metric\": null, \"status\": \"Completed\", \"run_type\": \"azureml.scriptrun\", \"training_percent\": \"100\", \"start_time\": \"2023-07-10T13:20:09.005987Z\", \"end_time\": \"2023-07-10T13:20:41.072658Z\", \"created_time\": \"2023-07-10T13:19:54.442178Z\", \"created_time_dt\": \"2023-07-10T13:19:54.442178Z\", \"duration\": \"0:00:46\", \"iteration\": \"20\", \"goal\": \"AUC_weighted_max\", \"run_name\": \"StandardScalerWrapper, XGBoostClassifier\", \"run_properties\": \"copy=True, with_mean=False, with_std=False\", \"primary_metric\": 0.89609125, \"best_metric\": 0.89609125}, {\"run_id\": \"AutoML_93431f70-da04-4032-982b-67c9c9eb3449_23\", \"run_number\": 1688995207, \"metric\": null, \"status\": \"Completed\", \"run_type\": \"azureml.scriptrun\", \"training_percent\": \"100\", \"start_time\": \"2023-07-10T13:20:18.559548Z\", \"end_time\": \"2023-07-10T13:20:52.45823Z\", \"created_time\": \"2023-07-10T13:20:07.624581Z\", \"created_time_dt\": \"2023-07-10T13:20:07.624581Z\", \"duration\": \"0:00:44\", \"iteration\": \"23\", \"goal\": \"AUC_weighted_max\", \"run_name\": \"MaxAbsScaler, LogisticRegression\", \"run_properties\": \"copy=True\", \"primary_metric\": 0.86742265, \"best_metric\": 0.89609125}, {\"run_id\": \"AutoML_93431f70-da04-4032-982b-67c9c9eb3449_25\", \"run_number\": 1688995245, \"metric\": null, \"status\": \"Completed\", \"run_type\": \"azureml.scriptrun\", \"training_percent\": \"100\", \"start_time\": \"2023-07-10T13:20:53.302338Z\", \"end_time\": \"2023-07-10T13:21:30.0427Z\", \"created_time\": \"2023-07-10T13:20:45.346033Z\", \"created_time_dt\": \"2023-07-10T13:20:45.346033Z\", \"duration\": \"0:00:44\", \"iteration\": \"25\", \"goal\": \"AUC_weighted_max\", \"run_name\": \"StandardScalerWrapper, ExtremeRandomTrees\", \"run_properties\": \"copy=True, with_mean=False, with_std=True\", \"primary_metric\": 0.91518342, \"best_metric\": 0.91518342}, {\"run_id\": \"AutoML_93431f70-da04-4032-982b-67c9c9eb3449_26\", \"run_number\": 1688995247, \"metric\": null, \"status\": \"Completed\", \"run_type\": \"azureml.scriptrun\", \"training_percent\": \"100\", \"start_time\": \"2023-07-10T13:20:56.286786Z\", \"end_time\": \"2023-07-10T13:21:31.743113Z\", \"created_time\": \"2023-07-10T13:20:47.607377Z\", \"created_time_dt\": \"2023-07-10T13:20:47.607377Z\", \"duration\": \"0:00:44\", \"iteration\": \"26\", \"goal\": \"AUC_weighted_max\", \"run_name\": \"StandardScalerWrapper, XGBoostClassifier\", \"run_properties\": \"copy=True, with_mean=False, with_std=False\", \"primary_metric\": 0.88775747, \"best_metric\": 0.91518342}, {\"run_id\": \"AutoML_93431f70-da04-4032-982b-67c9c9eb3449_27\", \"run_number\": 1688995254, \"metric\": null, \"status\": \"Completed\", \"run_type\": \"azureml.scriptrun\", \"training_percent\": \"100\", \"start_time\": \"2023-07-10T13:21:23.183684Z\", \"end_time\": \"2023-07-10T13:21:58.167559Z\", \"created_time\": \"2023-07-10T13:20:54.121594Z\", \"created_time_dt\": \"2023-07-10T13:20:54.121594Z\", \"duration\": \"0:01:04\", \"iteration\": \"27\", \"goal\": \"AUC_weighted_max\", \"run_name\": \"MinMaxScaler, RandomForest\", \"run_properties\": \"copy=True, feature_range=(0, 1\", \"primary_metric\": 0.8961388, \"best_metric\": 0.91518342}, {\"run_id\": \"AutoML_93431f70-da04-4032-982b-67c9c9eb3449_28\", \"run_number\": 1688995277, \"metric\": null, \"status\": \"Completed\", \"run_type\": \"azureml.scriptrun\", \"training_percent\": \"100\", \"start_time\": \"2023-07-10T13:21:32.690016Z\", \"end_time\": \"2023-07-10T13:22:08.491832Z\", \"created_time\": \"2023-07-10T13:21:17.535202Z\", \"created_time_dt\": \"2023-07-10T13:21:17.535202Z\", \"duration\": \"0:00:50\", \"iteration\": \"28\", \"goal\": \"AUC_weighted_max\", \"run_name\": \"StandardScalerWrapper, ExtremeRandomTrees\", \"run_properties\": \"copy=True, with_mean=True, with_std=True\", \"primary_metric\": 0.86809744, \"best_metric\": 0.91518342}, {\"run_id\": \"AutoML_93431f70-da04-4032-982b-67c9c9eb3449_29\", \"run_number\": 1688995288, \"metric\": null, \"status\": \"Completed\", \"run_type\": \"azureml.scriptrun\", \"training_percent\": \"100\", \"start_time\": \"2023-07-10T13:21:36.610172Z\", \"end_time\": \"2023-07-10T13:22:07.424042Z\", \"created_time\": \"2023-07-10T13:21:28.341912Z\", \"created_time_dt\": \"2023-07-10T13:21:28.341912Z\", \"duration\": \"0:00:39\", \"iteration\": \"29\", \"goal\": \"AUC_weighted_max\", \"run_name\": \"MaxAbsScaler, LightGBM\", \"run_properties\": \"copy=True\", \"primary_metric\": 0.90073382, \"best_metric\": 0.91518342}, {\"run_id\": \"AutoML_93431f70-da04-4032-982b-67c9c9eb3449_30\", \"run_number\": 1688995292, \"metric\": null, \"status\": \"Completed\", \"run_type\": \"azureml.scriptrun\", \"training_percent\": \"100\", \"start_time\": \"2023-07-10T13:21:41.826892Z\", \"end_time\": \"2023-07-10T13:22:16.557789Z\", \"created_time\": \"2023-07-10T13:21:32.361338Z\", \"created_time_dt\": \"2023-07-10T13:21:32.361338Z\", \"duration\": \"0:00:44\", \"iteration\": \"30\", \"goal\": \"AUC_weighted_max\", \"run_name\": \"RobustScaler, ExtremeRandomTrees\", \"run_properties\": \"copy=True, quantile_range=[10, 90], with_centering=False,\\n             with_scaling=True\", \"primary_metric\": 0.76317868, \"best_metric\": 0.91518342}, {\"run_id\": \"AutoML_93431f70-da04-4032-982b-67c9c9eb3449_31\", \"run_number\": 1688995294, \"metric\": null, \"status\": \"Completed\", \"run_type\": \"azureml.scriptrun\", \"training_percent\": \"100\", \"start_time\": \"2023-07-10T13:22:04.950893Z\", \"end_time\": \"2023-07-10T13:22:35.524025Z\", \"created_time\": \"2023-07-10T13:21:34.31103Z\", \"created_time_dt\": \"2023-07-10T13:21:34.31103Z\", \"duration\": \"0:01:01\", \"iteration\": \"31\", \"goal\": \"AUC_weighted_max\", \"run_name\": \"RobustScaler, LightGBM\", \"run_properties\": \"copy=True, quantile_range=[10, 90], with_centering=False,\\n             with_scaling=True\", \"primary_metric\": 0.89879441, \"best_metric\": 0.91518342}, {\"run_id\": \"AutoML_93431f70-da04-4032-982b-67c9c9eb3449_32\", \"run_number\": 1688995319, \"metric\": null, \"status\": \"Completed\", \"run_type\": \"azureml.scriptrun\", \"training_percent\": \"100\", \"start_time\": \"2023-07-10T13:22:12.473125Z\", \"end_time\": \"2023-07-10T13:22:41.790069Z\", \"created_time\": \"2023-07-10T13:21:59.51532Z\", \"created_time_dt\": \"2023-07-10T13:21:59.51532Z\", \"duration\": \"0:00:42\", \"iteration\": \"32\", \"goal\": \"AUC_weighted_max\", \"run_name\": \"SparseNormalizer, LightGBM\", \"run_properties\": \"copy=True, norm='l2'\", \"primary_metric\": 0.880707, \"best_metric\": 0.91518342}, {\"run_id\": \"AutoML_93431f70-da04-4032-982b-67c9c9eb3449_33\", \"run_number\": 1688995328, \"metric\": null, \"status\": \"Completed\", \"run_type\": \"azureml.scriptrun\", \"training_percent\": \"100\", \"start_time\": \"2023-07-10T13:22:18.919384Z\", \"end_time\": \"2023-07-10T13:22:55.620003Z\", \"created_time\": \"2023-07-10T13:22:08.82531Z\", \"created_time_dt\": \"2023-07-10T13:22:08.82531Z\", \"duration\": \"0:00:46\", \"iteration\": \"33\", \"goal\": \"AUC_weighted_max\", \"run_name\": \"StandardScalerWrapper, LightGBM\", \"run_properties\": \"copy=True, with_mean=True, with_std=False\", \"primary_metric\": 0.87987188, \"best_metric\": 0.91518342}, {\"run_id\": \"AutoML_93431f70-da04-4032-982b-67c9c9eb3449_34\", \"run_number\": 1688995330, \"metric\": null, \"status\": \"Completed\", \"run_type\": \"azureml.scriptrun\", \"training_percent\": \"100\", \"start_time\": \"2023-07-10T13:22:20.567001Z\", \"end_time\": \"2023-07-10T13:22:54.992546Z\", \"created_time\": \"2023-07-10T13:22:10.823034Z\", \"created_time_dt\": \"2023-07-10T13:22:10.823034Z\", \"duration\": \"0:00:44\", \"iteration\": \"34\", \"goal\": \"AUC_weighted_max\", \"run_name\": \"StandardScalerWrapper, LightGBM\", \"run_properties\": \"copy=True, with_mean=False, with_std=False\", \"primary_metric\": 0.88323275, \"best_metric\": 0.91518342}, {\"run_id\": \"AutoML_93431f70-da04-4032-982b-67c9c9eb3449_35\", \"run_number\": 1688995338, \"metric\": null, \"status\": \"Completed\", \"run_type\": \"azureml.scriptrun\", \"training_percent\": \"100\", \"start_time\": \"2023-07-10T13:22:38.259626Z\", \"end_time\": \"2023-07-10T13:23:13.06096Z\", \"created_time\": \"2023-07-10T13:22:18.782755Z\", \"created_time_dt\": \"2023-07-10T13:22:18.782755Z\", \"duration\": \"0:00:54\", \"iteration\": \"35\", \"goal\": \"AUC_weighted_max\", \"run_name\": \"SparseNormalizer, ExtremeRandomTrees\", \"run_properties\": \"copy=True, norm='max'\", \"primary_metric\": 0.53587963, \"best_metric\": 0.91518342}, {\"run_id\": \"AutoML_93431f70-da04-4032-982b-67c9c9eb3449_36\", \"run_number\": 1688995356, \"metric\": null, \"status\": \"Completed\", \"run_type\": \"azureml.scriptrun\", \"training_percent\": \"100\", \"start_time\": \"2023-07-10T13:22:45.002731Z\", \"end_time\": \"2023-07-10T13:23:21.109409Z\", \"created_time\": \"2023-07-10T13:22:36.926289Z\", \"created_time_dt\": \"2023-07-10T13:22:36.926289Z\", \"duration\": \"0:00:44\", \"iteration\": \"36\", \"goal\": \"AUC_weighted_max\", \"run_name\": \"StandardScalerWrapper, XGBoostClassifier\", \"run_properties\": \"copy=True, with_mean=False, with_std=False\", \"primary_metric\": 0.90014863, \"best_metric\": 0.91518342}, {\"run_id\": \"AutoML_93431f70-da04-4032-982b-67c9c9eb3449_37\", \"run_number\": 1688995363, \"metric\": null, \"status\": \"Completed\", \"run_type\": \"azureml.scriptrun\", \"training_percent\": \"100\", \"start_time\": \"2023-07-10T13:22:59.299183Z\", \"end_time\": \"2023-07-10T13:23:30.239241Z\", \"created_time\": \"2023-07-10T13:22:43.119347Z\", \"created_time_dt\": \"2023-07-10T13:22:43.119347Z\", \"duration\": \"0:00:47\", \"iteration\": \"37\", \"goal\": \"AUC_weighted_max\", \"run_name\": \"StandardScalerWrapper, XGBoostClassifier\", \"run_properties\": \"copy=True, with_mean=False, with_std=False\", \"primary_metric\": 0.90315232, \"best_metric\": 0.91518342}, {\"run_id\": \"AutoML_93431f70-da04-4032-982b-67c9c9eb3449_38\", \"run_number\": 1688995376, \"metric\": null, \"status\": \"Completed\", \"run_type\": \"azureml.scriptrun\", \"training_percent\": \"100\", \"start_time\": \"2023-07-10T13:23:08.640506Z\", \"end_time\": \"2023-07-10T13:23:43.292158Z\", \"created_time\": \"2023-07-10T13:22:56.312386Z\", \"created_time_dt\": \"2023-07-10T13:22:56.312386Z\", \"duration\": \"0:00:46\", \"iteration\": \"38\", \"goal\": \"AUC_weighted_max\", \"run_name\": \"MinMaxScaler, LightGBM\", \"run_properties\": \"copy=True, feature_range=(0, 1\", \"primary_metric\": 0.89734927, \"best_metric\": 0.91518342}, {\"run_id\": \"AutoML_93431f70-da04-4032-982b-67c9c9eb3449_39\", \"run_number\": 1688995378, \"metric\": null, \"status\": \"Completed\", \"run_type\": \"azureml.scriptrun\", \"training_percent\": \"100\", \"start_time\": \"2023-07-10T13:23:16.742686Z\", \"end_time\": \"2023-07-10T13:23:53.115873Z\", \"created_time\": \"2023-07-10T13:22:58.427007Z\", \"created_time_dt\": \"2023-07-10T13:22:58.427007Z\", \"duration\": \"0:00:54\", \"iteration\": \"39\", \"goal\": \"AUC_weighted_max\", \"run_name\": \"StandardScalerWrapper, XGBoostClassifier\", \"run_properties\": \"copy=True, with_mean=False, with_std=False\", \"primary_metric\": 0.90143467, \"best_metric\": 0.91518342}, {\"run_id\": \"AutoML_93431f70-da04-4032-982b-67c9c9eb3449_40\", \"run_number\": 1688995395, \"metric\": null, \"status\": \"Canceled\", \"run_type\": \"azureml.scriptrun\", \"training_percent\": \"100\", \"start_time\": \"2023-07-10T13:23:25.699458Z\", \"end_time\": \"2023-07-10T13:23:56.896408Z\", \"created_time\": \"2023-07-10T13:23:15.155487Z\", \"created_time_dt\": \"2023-07-10T13:23:15.155487Z\", \"duration\": \"0:00:41\", \"iteration\": \"40\", \"goal\": \"AUC_weighted_max\", \"run_name\": \"TruncatedSVDWrapper, ExtremeRandomTrees\", \"run_properties\": \"n_components=0.40578947368421053, random_state=None\", \"primary_metric\": 0.70383635, \"best_metric\": 0.91518342}, {\"run_id\": \"AutoML_93431f70-da04-4032-982b-67c9c9eb3449_41\", \"run_number\": 1688995402, \"metric\": null, \"status\": \"Canceled\", \"run_type\": \"azureml.scriptrun\", \"training_percent\": \"100\", \"start_time\": \"2023-07-10T13:23:35.568015Z\", \"end_time\": \"2023-07-10T13:23:59.533539Z\", \"created_time\": \"2023-07-10T13:23:22.519761Z\", \"created_time_dt\": \"2023-07-10T13:23:22.519761Z\", \"duration\": \"0:00:37\", \"iteration\": \"41\", \"goal\": \"AUC_weighted_max\", \"run_name\": \"StandardScalerWrapper, XGBoostClassifier\", \"run_properties\": \"copy=True, with_mean=False, with_std=False\", \"primary_metric\": 0.90434296, \"best_metric\": 0.91518342}, {\"run_id\": \"AutoML_93431f70-da04-4032-982b-67c9c9eb3449_42\", \"run_number\": 1688995411, \"metric\": null, \"status\": \"Canceled\", \"run_type\": \"azureml.scriptrun\", \"training_percent\": \"100\", \"start_time\": \"2023-07-10T13:23:47.783535Z\", \"end_time\": \"2023-07-10T13:23:59.347416Z\", \"created_time\": \"2023-07-10T13:23:31.54004Z\", \"created_time_dt\": \"2023-07-10T13:23:31.54004Z\", \"duration\": \"0:00:27\", \"iteration\": \"42\", \"goal\": null, \"run_name\": \"Canceled\", \"run_properties\": null}, {\"run_id\": \"AutoML_93431f70-da04-4032-982b-67c9c9eb3449_43\", \"run_number\": 1688995424, \"metric\": null, \"status\": \"Canceled\", \"run_type\": \"azureml.scriptrun\", \"training_percent\": \"100\", \"start_time\": \"2023-07-10T13:23:53.772634Z\", \"end_time\": \"2023-07-10T13:23:57.479317Z\", \"created_time\": \"2023-07-10T13:23:44.676785Z\", \"created_time_dt\": \"2023-07-10T13:23:44.676785Z\", \"duration\": \"0:00:12\", \"iteration\": \"43\", \"goal\": null, \"run_name\": \"Canceled\", \"run_properties\": null}, {\"run_id\": \"AutoML_93431f70-da04-4032-982b-67c9c9eb3449_45\", \"run_number\": 1688995440, \"metric\": null, \"status\": \"Completed\", \"run_type\": \"azureml.scriptrun\", \"training_percent\": \"100\", \"start_time\": \"2023-07-10T13:24:09.962995Z\", \"end_time\": \"2023-07-10T13:25:42.394718Z\", \"created_time\": \"2023-07-10T13:24:00.277001Z\", \"created_time_dt\": \"2023-07-10T13:24:00.277001Z\", \"duration\": \"0:01:42\", \"iteration\": \"45\", \"goal\": \"AUC_weighted_max\", \"run_name\": \"StackEnsemble\", \"run_properties\": \"base_learners=[('25', Pipeline(memory=None, steps=[('standardscalerwrapper', StandardScalerWrapper(copy=True, with_mean=False, with_std=True\", \"primary_metric\": 0.9131779, \"best_metric\": 0.91518342}], \"children_metrics\": {\"categories\": [0], \"series\": {\"f1_score_micro\": [{\"categories\": [\"0\", \"5\", \"13\", \"20\", \"23\", \"25\", \"26\", \"27\", \"28\", \"29\", \"30\", \"31\", \"32\", \"33\", \"34\", \"35\", \"36\", \"37\", \"38\", \"39\", \"40\", \"41\", \"45\"], \"mode\": \"markers\", \"name\": \"f1_score_micro\", \"stepped\": false, \"type\": \"scatter\", \"data\": [0.8526436781609196, 0.6424137931034484, 0.7658620689655172, 0.8560919540229885, 0.792528735632184, 0.822528735632184, 0.8193103448275861, 0.8324137931034482, 0.829080459770115, 0.8359770114942527, 0.7020689655172413, 0.8326436781609197, 0.8394252873563218, 0.8393103448275863, 0.8427586206896553, 0.6791954022988507, 0.8460919540229886, 0.8426436781609196, 0.8393103448275863, 0.8359770114942527, 0.6688505747126436, 0.8391954022988506, 0.7859770114942528]}, {\"categories\": [\"0\", \"5\", \"13\", \"20\", \"23\", \"25\", \"26\", \"27\", \"28\", \"29\", \"30\", \"31\", \"32\", \"33\", \"34\", \"35\", \"36\", \"37\", \"38\", \"39\", \"40\", \"41\", \"45\"], \"mode\": \"lines\", \"name\": \"f1_score_micro_max\", \"stepped\": true, \"type\": \"scatter\", \"data\": [0.8526436781609196, 0.8526436781609196, 0.8526436781609196, 0.8560919540229885, 0.8560919540229885, 0.8560919540229885, 0.8560919540229885, 0.8560919540229885, 0.8560919540229885, 0.8560919540229885, 0.8560919540229885, 0.8560919540229885, 0.8560919540229885, 0.8560919540229885, 0.8560919540229885, 0.8560919540229885, 0.8560919540229885, 0.8560919540229885, 0.8560919540229885, 0.8560919540229885, 0.8560919540229885, 0.8560919540229885, 0.8560919540229885]}], \"AUC_weighted\": [{\"categories\": [\"0\", \"5\", \"13\", \"20\", \"23\", \"25\", \"26\", \"27\", \"28\", \"29\", \"30\", \"31\", \"32\", \"33\", \"34\", \"35\", \"36\", \"37\", \"38\", \"39\", \"40\", \"41\", \"45\"], \"mode\": \"markers\", \"name\": \"AUC_weighted\", \"stepped\": false, \"type\": \"scatter\", \"data\": [0.8952333600250076, 0.5058572603005097, 0.7464011599733854, 0.8960912485429647, 0.867422648766184, 0.915183420205102, 0.8877574707519788, 0.8961387951928568, 0.8680974409838825, 0.9007338212131117, 0.7631786821439854, 0.8987944050673455, 0.8807070010335456, 0.8798718818896164, 0.8832327473822896, 0.5358796296296295, 0.9001486318177966, 0.9031523249824167, 0.8973492668319899, 0.901434673310417, 0.7038363530697627, 0.9043429597819758, 0.9131779028158891]}, {\"categories\": [\"0\", \"5\", \"13\", \"20\", \"23\", \"25\", \"26\", \"27\", \"28\", \"29\", \"30\", \"31\", \"32\", \"33\", \"34\", \"35\", \"36\", \"37\", \"38\", \"39\", \"40\", \"41\", \"45\"], \"mode\": \"lines\", \"name\": \"AUC_weighted_max\", \"stepped\": true, \"type\": \"scatter\", \"data\": [0.8952333600250076, 0.8952333600250076, 0.8952333600250076, 0.8960912485429647, 0.8960912485429647, 0.915183420205102, 0.915183420205102, 0.915183420205102, 0.915183420205102, 0.915183420205102, 0.915183420205102, 0.915183420205102, 0.915183420205102, 0.915183420205102, 0.915183420205102, 0.915183420205102, 0.915183420205102, 0.915183420205102, 0.915183420205102, 0.915183420205102, 0.915183420205102, 0.915183420205102, 0.915183420205102]}], \"log_loss\": [{\"categories\": [\"0\", \"5\", \"13\", \"20\", \"23\", \"25\", \"26\", \"27\", \"28\", \"29\", \"30\", \"31\", \"32\", \"33\", \"34\", \"35\", \"36\", \"37\", \"38\", \"39\", \"40\", \"41\", \"45\"], \"mode\": \"markers\", \"name\": \"log_loss\", \"stepped\": false, \"type\": \"scatter\", \"data\": [0.4598848075595511, 0.706099308813747, 1.2827620632333787, 0.37203366403086247, 0.4626758255595519, 0.37588363630505117, 0.4845004849093207, 0.4780011839625078, 0.5814718269865761, 0.3857401947874797, 0.6593616137447285, 0.4106746831186965, 0.4087396960675145, 0.39424164408061346, 0.3905695654212793, 0.6298129629302073, 0.38276354616689967, 0.3919558388931206, 0.3871003634110678, 0.6549870158130618, 0.6865402779956694, 0.44172363335907744, 0.45564719018474575]}, {\"categories\": [\"0\", \"5\", \"13\", \"20\", \"23\", \"25\", \"26\", \"27\", \"28\", \"29\", \"30\", \"31\", \"32\", \"33\", \"34\", \"35\", \"36\", \"37\", \"38\", \"39\", \"40\", \"41\", \"45\"], \"mode\": \"lines\", \"name\": \"log_loss_min\", \"stepped\": true, \"type\": \"scatter\", \"data\": [0.4598848075595511, 0.4598848075595511, 0.4598848075595511, 0.37203366403086247, 0.37203366403086247, 0.37203366403086247, 0.37203366403086247, 0.37203366403086247, 0.37203366403086247, 0.37203366403086247, 0.37203366403086247, 0.37203366403086247, 0.37203366403086247, 0.37203366403086247, 0.37203366403086247, 0.37203366403086247, 0.37203366403086247, 0.37203366403086247, 0.37203366403086247, 0.37203366403086247, 0.37203366403086247, 0.37203366403086247, 0.37203366403086247]}], \"AUC_macro\": [{\"categories\": [\"0\", \"5\", \"13\", \"20\", \"23\", \"25\", \"26\", \"27\", \"28\", \"29\", \"30\", \"31\", \"32\", \"33\", \"34\", \"35\", \"36\", \"37\", \"38\", \"39\", \"40\", \"41\", \"45\"], \"mode\": \"markers\", \"name\": \"AUC_macro\", \"stepped\": false, \"type\": \"scatter\", \"data\": [0.8952333600250076, 0.5058572603005097, 0.7464011599733854, 0.8960912485429647, 0.8674226487661842, 0.915183420205102, 0.8877574707519786, 0.8961387951928568, 0.8680974409838825, 0.9007338212131117, 0.7631786821439853, 0.8987944050673455, 0.8807070010335456, 0.8798718818896164, 0.8832327473822896, 0.5358796296296295, 0.9001486318177966, 0.9031523249824167, 0.8973492668319899, 0.901434673310417, 0.7038363530697627, 0.9043429597819758, 0.9131779028158891]}, {\"categories\": [\"0\", \"5\", \"13\", \"20\", \"23\", \"25\", \"26\", \"27\", \"28\", \"29\", \"30\", \"31\", \"32\", \"33\", \"34\", \"35\", \"36\", \"37\", \"38\", \"39\", \"40\", \"41\", \"45\"], \"mode\": \"lines\", \"name\": \"AUC_macro_max\", \"stepped\": true, \"type\": \"scatter\", \"data\": [0.8952333600250076, 0.8952333600250076, 0.8952333600250076, 0.8960912485429647, 0.8960912485429647, 0.915183420205102, 0.915183420205102, 0.915183420205102, 0.915183420205102, 0.915183420205102, 0.915183420205102, 0.915183420205102, 0.915183420205102, 0.915183420205102, 0.915183420205102, 0.915183420205102, 0.915183420205102, 0.915183420205102, 0.915183420205102, 0.915183420205102, 0.915183420205102, 0.915183420205102, 0.915183420205102]}], \"f1_score_weighted\": [{\"categories\": [\"0\", \"5\", \"13\", \"20\", \"23\", \"25\", \"26\", \"27\", \"28\", \"29\", \"30\", \"31\", \"32\", \"33\", \"34\", \"35\", \"36\", \"37\", \"38\", \"39\", \"40\", \"41\", \"45\"], \"mode\": \"markers\", \"name\": \"f1_score_weighted\", \"stepped\": false, \"type\": \"scatter\", \"data\": [0.8495734967583646, 0.5969597383330986, 0.7414592889700058, 0.8528962935432418, 0.7966623210665318, 0.8233521304817263, 0.8161629364819758, 0.8367742763552434, 0.8317977734543323, 0.8280232796506933, 0.7139038636479054, 0.8236926695779175, 0.8346985742120655, 0.8353327779096755, 0.8397775187048065, 0.5534120288954022, 0.8409810653975516, 0.8407822360107854, 0.8373414757301504, 0.8293789917697438, 0.6605005353848667, 0.8377318125787967, 0.7451532222851314]}, {\"categories\": [\"0\", \"5\", \"13\", \"20\", \"23\", \"25\", \"26\", \"27\", \"28\", \"29\", \"30\", \"31\", \"32\", \"33\", \"34\", \"35\", \"36\", \"37\", \"38\", \"39\", \"40\", \"41\", \"45\"], \"mode\": \"lines\", \"name\": \"f1_score_weighted_max\", \"stepped\": true, \"type\": \"scatter\", \"data\": [0.8495734967583646, 0.8495734967583646, 0.8495734967583646, 0.8528962935432418, 0.8528962935432418, 0.8528962935432418, 0.8528962935432418, 0.8528962935432418, 0.8528962935432418, 0.8528962935432418, 0.8528962935432418, 0.8528962935432418, 0.8528962935432418, 0.8528962935432418, 0.8528962935432418, 0.8528962935432418, 0.8528962935432418, 0.8528962935432418, 0.8528962935432418, 0.8528962935432418, 0.8528962935432418, 0.8528962935432418, 0.8528962935432418]}], \"average_precision_score_micro\": [{\"categories\": [\"0\", \"5\", \"13\", \"20\", \"23\", \"25\", \"26\", \"27\", \"28\", \"29\", \"30\", \"31\", \"32\", \"33\", \"34\", \"35\", \"36\", \"37\", \"38\", \"39\", \"40\", \"41\", \"45\"], \"mode\": \"markers\", \"name\": \"average_precision_score_micro\", \"stepped\": false, \"type\": \"scatter\", \"data\": [0.9118998393040524, 0.6528425787987014, 0.792947413420068, 0.915055993167238, 0.861974341731363, 0.9134050449514376, 0.8962475419723172, 0.9048333253333055, 0.8768148122916004, 0.9173949758685076, 0.7584806498404422, 0.9129151104166018, 0.8987738106684795, 0.9054711448473183, 0.9081086491653867, 0.6544065376315673, 0.9024495146894985, 0.9135956903128989, 0.9096871955829118, 0.9030057686683838, 0.6789020610402267, 0.9093796588843768, 0.8965744154665687]}, {\"categories\": [\"0\", \"5\", \"13\", \"20\", \"23\", \"25\", \"26\", \"27\", \"28\", \"29\", \"30\", \"31\", \"32\", \"33\", \"34\", \"35\", \"36\", \"37\", \"38\", \"39\", \"40\", \"41\", \"45\"], \"mode\": \"lines\", \"name\": \"average_precision_score_micro_max\", \"stepped\": true, \"type\": \"scatter\", \"data\": [0.9118998393040524, 0.9118998393040524, 0.9118998393040524, 0.915055993167238, 0.915055993167238, 0.915055993167238, 0.915055993167238, 0.915055993167238, 0.915055993167238, 0.9173949758685076, 0.9173949758685076, 0.9173949758685076, 0.9173949758685076, 0.9173949758685076, 0.9173949758685076, 0.9173949758685076, 0.9173949758685076, 0.9173949758685076, 0.9173949758685076, 0.9173949758685076, 0.9173949758685076, 0.9173949758685076, 0.9173949758685076]}], \"AUC_micro\": [{\"categories\": [\"0\", \"5\", \"13\", \"20\", \"23\", \"25\", \"26\", \"27\", \"28\", \"29\", \"30\", \"31\", \"32\", \"33\", \"34\", \"35\", \"36\", \"37\", \"38\", \"39\", \"40\", \"41\", \"45\"], \"mode\": \"markers\", \"name\": \"AUC_micro\", \"stepped\": false, \"type\": \"scatter\", \"data\": [0.9107760602457391, 0.6536476416963932, 0.8058736953362399, 0.9128833399392258, 0.8640823094200026, 0.9156591359492667, 0.8938092218258686, 0.9058171488968159, 0.87463007002246, 0.9112692561765094, 0.7561177170035673, 0.9099379046109128, 0.8969105562161449, 0.9017896683841988, 0.9051951380631523, 0.6964176245210728, 0.9051854934601664, 0.9107156823886907, 0.9072752014797197, 0.9057390672479851, 0.6940901043731008, 0.9094856652133702, 0.888553838023517]}, {\"categories\": [\"0\", \"5\", \"13\", \"20\", \"23\", \"25\", \"26\", \"27\", \"28\", \"29\", \"30\", \"31\", \"32\", \"33\", \"34\", \"35\", \"36\", \"37\", \"38\", \"39\", \"40\", \"41\", \"45\"], \"mode\": \"lines\", \"name\": \"AUC_micro_max\", \"stepped\": true, \"type\": \"scatter\", \"data\": [0.9107760602457391, 0.9107760602457391, 0.9107760602457391, 0.9128833399392258, 0.9128833399392258, 0.9156591359492667, 0.9156591359492667, 0.9156591359492667, 0.9156591359492667, 0.9156591359492667, 0.9156591359492667, 0.9156591359492667, 0.9156591359492667, 0.9156591359492667, 0.9156591359492667, 0.9156591359492667, 0.9156591359492667, 0.9156591359492667, 0.9156591359492667, 0.9156591359492667, 0.9156591359492667, 0.9156591359492667, 0.9156591359492667]}], \"matthews_correlation\": [{\"categories\": [\"0\", \"5\", \"13\", \"20\", \"23\", \"25\", \"26\", \"27\", \"28\", \"29\", \"30\", \"31\", \"32\", \"33\", \"34\", \"35\", \"36\", \"37\", \"38\", \"39\", \"40\", \"41\", \"45\"], \"mode\": \"markers\", \"name\": \"matthews_correlation\", \"stepped\": false, \"type\": \"scatter\", \"data\": [0.6609732322714985, 0.0819796276020419, 0.4335563191961641, 0.6613844749265068, 0.5585540540065608, 0.598534508145675, 0.5934919857734698, 0.6294905867335309, 0.6288998634648684, 0.6224335277606176, 0.40531480971003325, 0.6120717883338016, 0.6457483928875167, 0.6335715573688875, 0.6347624224267223, 0.0, 0.6425493243599825, 0.6437905935119107, 0.640649610234733, 0.6166496738975804, 0.3051984206572978, 0.6392607581050445, 0.45385922875681367]}, {\"categories\": [\"0\", \"5\", \"13\", \"20\", \"23\", \"25\", \"26\", \"27\", \"28\", \"29\", \"30\", \"31\", \"32\", \"33\", \"34\", \"35\", \"36\", \"37\", \"38\", \"39\", \"40\", \"41\", \"45\"], \"mode\": \"lines\", \"name\": \"matthews_correlation_max\", \"stepped\": true, \"type\": \"scatter\", \"data\": [0.6609732322714985, 0.6609732322714985, 0.6609732322714985, 0.6613844749265068, 0.6613844749265068, 0.6613844749265068, 0.6613844749265068, 0.6613844749265068, 0.6613844749265068, 0.6613844749265068, 0.6613844749265068, 0.6613844749265068, 0.6613844749265068, 0.6613844749265068, 0.6613844749265068, 0.6613844749265068, 0.6613844749265068, 0.6613844749265068, 0.6613844749265068, 0.6613844749265068, 0.6613844749265068, 0.6613844749265068, 0.6613844749265068]}], \"weighted_accuracy\": [{\"categories\": [\"0\", \"5\", \"13\", \"20\", \"23\", \"25\", \"26\", \"27\", \"28\", \"29\", \"30\", \"31\", \"32\", \"33\", \"34\", \"35\", \"36\", \"37\", \"38\", \"39\", \"40\", \"41\", \"45\"], \"mode\": \"markers\", \"name\": \"weighted_accuracy\", \"stepped\": false, \"type\": \"scatter\", \"data\": [0.8721435014988043, 0.7077252561233643, 0.8242342713380824, 0.8769593319167646, 0.794035685460014, 0.834097055090116, 0.8365851853897558, 0.8336097351492423, 0.8304876213287342, 0.8628577453843678, 0.6912382190300301, 0.8676512008442003, 0.8593803664786863, 0.8583167235827245, 0.8631536109654213, 0.7931711479234276, 0.8723327769205055, 0.8561324314557224, 0.8527219921158297, 0.8655348430577368, 0.6707180019525961, 0.8533460709631523, 0.8202490714601811]}, {\"categories\": [\"0\", \"5\", \"13\", \"20\", \"23\", \"25\", \"26\", \"27\", \"28\", \"29\", \"30\", \"31\", \"32\", \"33\", \"34\", \"35\", \"36\", \"37\", \"38\", \"39\", \"40\", \"41\", \"45\"], \"mode\": \"lines\", \"name\": \"weighted_accuracy_max\", \"stepped\": true, \"type\": \"scatter\", \"data\": [0.8721435014988043, 0.8721435014988043, 0.8721435014988043, 0.8769593319167646, 0.8769593319167646, 0.8769593319167646, 0.8769593319167646, 0.8769593319167646, 0.8769593319167646, 0.8769593319167646, 0.8769593319167646, 0.8769593319167646, 0.8769593319167646, 0.8769593319167646, 0.8769593319167646, 0.8769593319167646, 0.8769593319167646, 0.8769593319167646, 0.8769593319167646, 0.8769593319167646, 0.8769593319167646, 0.8769593319167646, 0.8769593319167646]}], \"accuracy\": [{\"categories\": [\"0\", \"5\", \"13\", \"20\", \"23\", \"25\", \"26\", \"27\", \"28\", \"29\", \"30\", \"31\", \"32\", \"33\", \"34\", \"35\", \"36\", \"37\", \"38\", \"39\", \"40\", \"41\", \"45\"], \"mode\": \"markers\", \"name\": \"accuracy\", \"stepped\": false, \"type\": \"scatter\", \"data\": [0.8526436781609196, 0.6424137931034483, 0.7658620689655172, 0.8560919540229885, 0.792528735632184, 0.822528735632184, 0.8193103448275861, 0.8324137931034482, 0.829080459770115, 0.8359770114942527, 0.7020689655172413, 0.8326436781609197, 0.8394252873563218, 0.8393103448275863, 0.8427586206896551, 0.6791954022988507, 0.8460919540229886, 0.8426436781609195, 0.8393103448275863, 0.8359770114942527, 0.6688505747126436, 0.8391954022988506, 0.7859770114942528]}, {\"categories\": [\"0\", \"5\", \"13\", \"20\", \"23\", \"25\", \"26\", \"27\", \"28\", \"29\", \"30\", \"31\", \"32\", \"33\", \"34\", \"35\", \"36\", \"37\", \"38\", \"39\", \"40\", \"41\", \"45\"], \"mode\": \"lines\", \"name\": \"accuracy_max\", \"stepped\": true, \"type\": \"scatter\", \"data\": [0.8526436781609196, 0.8526436781609196, 0.8526436781609196, 0.8560919540229885, 0.8560919540229885, 0.8560919540229885, 0.8560919540229885, 0.8560919540229885, 0.8560919540229885, 0.8560919540229885, 0.8560919540229885, 0.8560919540229885, 0.8560919540229885, 0.8560919540229885, 0.8560919540229885, 0.8560919540229885, 0.8560919540229885, 0.8560919540229885, 0.8560919540229885, 0.8560919540229885, 0.8560919540229885, 0.8560919540229885, 0.8560919540229885]}], \"recall_score_weighted\": [{\"categories\": [\"0\", \"5\", \"13\", \"20\", \"23\", \"25\", \"26\", \"27\", \"28\", \"29\", \"30\", \"31\", \"32\", \"33\", \"34\", \"35\", \"36\", \"37\", \"38\", \"39\", \"40\", \"41\", \"45\"], \"mode\": \"markers\", \"name\": \"recall_score_weighted\", \"stepped\": false, \"type\": \"scatter\", \"data\": [0.8526436781609196, 0.6424137931034483, 0.7658620689655172, 0.8560919540229885, 0.792528735632184, 0.822528735632184, 0.8193103448275861, 0.8324137931034482, 0.829080459770115, 0.8359770114942527, 0.7020689655172413, 0.8326436781609197, 0.8394252873563218, 0.8393103448275863, 0.8427586206896551, 0.6791954022988507, 0.8460919540229886, 0.8426436781609195, 0.8393103448275863, 0.8359770114942527, 0.6688505747126436, 0.8391954022988506, 0.7859770114942528]}, {\"categories\": [\"0\", \"5\", \"13\", \"20\", \"23\", \"25\", \"26\", \"27\", \"28\", \"29\", \"30\", \"31\", \"32\", \"33\", \"34\", \"35\", \"36\", \"37\", \"38\", \"39\", \"40\", \"41\", \"45\"], \"mode\": \"lines\", \"name\": \"recall_score_weighted_max\", \"stepped\": true, \"type\": \"scatter\", \"data\": [0.8526436781609196, 0.8526436781609196, 0.8526436781609196, 0.8560919540229885, 0.8560919540229885, 0.8560919540229885, 0.8560919540229885, 0.8560919540229885, 0.8560919540229885, 0.8560919540229885, 0.8560919540229885, 0.8560919540229885, 0.8560919540229885, 0.8560919540229885, 0.8560919540229885, 0.8560919540229885, 0.8560919540229885, 0.8560919540229885, 0.8560919540229885, 0.8560919540229885, 0.8560919540229885, 0.8560919540229885, 0.8560919540229885]}], \"precision_score_weighted\": [{\"categories\": [\"0\", \"5\", \"13\", \"20\", \"23\", \"25\", \"26\", \"27\", \"28\", \"29\", \"30\", \"31\", \"32\", \"33\", \"34\", \"35\", \"36\", \"37\", \"38\", \"39\", \"40\", \"41\", \"45\"], \"mode\": \"markers\", \"name\": \"precision_score_weighted\", \"stepped\": false, \"type\": \"scatter\", \"data\": [0.8605602523953744, 0.6029834921330174, 0.7784834739122095, 0.8642312691252855, 0.8303048768950072, 0.8411201260580825, 0.8363226635655421, 0.8520818311257946, 0.8527734944369139, 0.8550915904657284, 0.7597186992988744, 0.84736419673761, 0.8582613647388759, 0.8576467275412067, 0.8617313359193419, 0.47055053507728895, 0.8551153656197649, 0.8559507969680386, 0.8545803669575829, 0.8469609053698258, 0.7157524183018935, 0.8567632447636591, 0.7280687905686407]}, {\"categories\": [\"0\", \"5\", \"13\", \"20\", \"23\", \"25\", \"26\", \"27\", \"28\", \"29\", \"30\", \"31\", \"32\", \"33\", \"34\", \"35\", \"36\", \"37\", \"38\", \"39\", \"40\", \"41\", \"45\"], \"mode\": \"lines\", \"name\": \"precision_score_weighted_max\", \"stepped\": true, \"type\": \"scatter\", \"data\": [0.8605602523953744, 0.8605602523953744, 0.8605602523953744, 0.8642312691252855, 0.8642312691252855, 0.8642312691252855, 0.8642312691252855, 0.8642312691252855, 0.8642312691252855, 0.8642312691252855, 0.8642312691252855, 0.8642312691252855, 0.8642312691252855, 0.8642312691252855, 0.8642312691252855, 0.8642312691252855, 0.8642312691252855, 0.8642312691252855, 0.8642312691252855, 0.8642312691252855, 0.8642312691252855, 0.8642312691252855, 0.8642312691252855]}], \"balanced_accuracy\": [{\"categories\": [\"0\", \"5\", \"13\", \"20\", \"23\", \"25\", \"26\", \"27\", \"28\", \"29\", \"30\", \"31\", \"32\", \"33\", \"34\", \"35\", \"36\", \"37\", \"38\", \"39\", \"40\", \"41\", \"45\"], \"mode\": \"markers\", \"name\": \"balanced_accuracy\", \"stepped\": false, \"type\": \"scatter\", \"data\": [0.8215480214865225, 0.5462382764387913, 0.6741668441525421, 0.8224065759755119, 0.7890289850944885, 0.8046995688331501, 0.7917825727857193, 0.8291581234046909, 0.8240878187728875, 0.7931090423687677, 0.720996446154913, 0.7775157343292354, 0.8088082401326109, 0.8075135070878778, 0.8091347505786866, 0.5, 0.8055603183683846, 0.8214325500014859, 0.817666506103863, 0.7910603183683846, 0.6609878368516813, 0.818997358762519, 0.7227502220637232]}, {\"categories\": [\"0\", \"5\", \"13\", \"20\", \"23\", \"25\", \"26\", \"27\", \"28\", \"29\", \"30\", \"31\", \"32\", \"33\", \"34\", \"35\", \"36\", \"37\", \"38\", \"39\", \"40\", \"41\", \"45\"], \"mode\": \"lines\", \"name\": \"balanced_accuracy_max\", \"stepped\": true, \"type\": \"scatter\", \"data\": [0.8215480214865225, 0.8215480214865225, 0.8215480214865225, 0.8224065759755119, 0.8224065759755119, 0.8224065759755119, 0.8224065759755119, 0.8291581234046909, 0.8291581234046909, 0.8291581234046909, 0.8291581234046909, 0.8291581234046909, 0.8291581234046909, 0.8291581234046909, 0.8291581234046909, 0.8291581234046909, 0.8291581234046909, 0.8291581234046909, 0.8291581234046909, 0.8291581234046909, 0.8291581234046909, 0.8291581234046909, 0.8291581234046909]}], \"recall_score_micro\": [{\"categories\": [\"0\", \"5\", \"13\", \"20\", \"23\", \"25\", \"26\", \"27\", \"28\", \"29\", \"30\", \"31\", \"32\", \"33\", \"34\", \"35\", \"36\", \"37\", \"38\", \"39\", \"40\", \"41\", \"45\"], \"mode\": \"markers\", \"name\": \"recall_score_micro\", \"stepped\": false, \"type\": \"scatter\", \"data\": [0.8526436781609196, 0.6424137931034483, 0.7658620689655172, 0.8560919540229885, 0.792528735632184, 0.822528735632184, 0.8193103448275861, 0.8324137931034482, 0.829080459770115, 0.8359770114942527, 0.7020689655172413, 0.8326436781609197, 0.8394252873563218, 0.8393103448275863, 0.8427586206896551, 0.6791954022988507, 0.8460919540229886, 0.8426436781609195, 0.8393103448275863, 0.8359770114942527, 0.6688505747126436, 0.8391954022988506, 0.7859770114942528]}, {\"categories\": [\"0\", \"5\", \"13\", \"20\", \"23\", \"25\", \"26\", \"27\", \"28\", \"29\", \"30\", \"31\", \"32\", \"33\", \"34\", \"35\", \"36\", \"37\", \"38\", \"39\", \"40\", \"41\", \"45\"], \"mode\": \"lines\", \"name\": \"recall_score_micro_max\", \"stepped\": true, \"type\": \"scatter\", \"data\": [0.8526436781609196, 0.8526436781609196, 0.8526436781609196, 0.8560919540229885, 0.8560919540229885, 0.8560919540229885, 0.8560919540229885, 0.8560919540229885, 0.8560919540229885, 0.8560919540229885, 0.8560919540229885, 0.8560919540229885, 0.8560919540229885, 0.8560919540229885, 0.8560919540229885, 0.8560919540229885, 0.8560919540229885, 0.8560919540229885, 0.8560919540229885, 0.8560919540229885, 0.8560919540229885, 0.8560919540229885, 0.8560919540229885]}], \"precision_score_macro\": [{\"categories\": [\"0\", \"5\", \"13\", \"20\", \"23\", \"25\", \"26\", \"27\", \"28\", \"29\", \"30\", \"31\", \"32\", \"33\", \"34\", \"35\", \"36\", \"37\", \"38\", \"39\", \"40\", \"41\", \"45\"], \"mode\": \"markers\", \"name\": \"precision_score_macro\", \"stepped\": false, \"type\": \"scatter\", \"data\": [0.8410434880400557, 0.5285095656467471, 0.773829678500159, 0.8408582185788067, 0.7717295219830049, 0.795593634680406, 0.8043549442548297, 0.8016168876590871, 0.8058444320557323, 0.8343728216228217, 0.6868854154960966, 0.8402147039755736, 0.84007968607797, 0.8289007021679655, 0.8298514492753621, 0.33959770114942534, 0.8385221799558185, 0.8236475468975468, 0.824533230374343, 0.8280084227366835, 0.632704089388872, 0.8223396270650275, 0.6777676140284835]}, {\"categories\": [\"0\", \"5\", \"13\", \"20\", \"23\", \"25\", \"26\", \"27\", \"28\", \"29\", \"30\", \"31\", \"32\", \"33\", \"34\", \"35\", \"36\", \"37\", \"38\", \"39\", \"40\", \"41\", \"45\"], \"mode\": \"lines\", \"name\": \"precision_score_macro_max\", \"stepped\": true, \"type\": \"scatter\", \"data\": [0.8410434880400557, 0.8410434880400557, 0.8410434880400557, 0.8410434880400557, 0.8410434880400557, 0.8410434880400557, 0.8410434880400557, 0.8410434880400557, 0.8410434880400557, 0.8410434880400557, 0.8410434880400557, 0.8410434880400557, 0.8410434880400557, 0.8410434880400557, 0.8410434880400557, 0.8410434880400557, 0.8410434880400557, 0.8410434880400557, 0.8410434880400557, 0.8410434880400557, 0.8410434880400557, 0.8410434880400557, 0.8410434880400557]}], \"precision_score_micro\": [{\"categories\": [\"0\", \"5\", \"13\", \"20\", \"23\", \"25\", \"26\", \"27\", \"28\", \"29\", \"30\", \"31\", \"32\", \"33\", \"34\", \"35\", \"36\", \"37\", \"38\", \"39\", \"40\", \"41\", \"45\"], \"mode\": \"markers\", \"name\": \"precision_score_micro\", \"stepped\": false, \"type\": \"scatter\", \"data\": [0.8526436781609196, 0.6424137931034483, 0.7658620689655172, 0.8560919540229885, 0.792528735632184, 0.822528735632184, 0.8193103448275861, 0.8324137931034482, 0.829080459770115, 0.8359770114942527, 0.7020689655172413, 0.8326436781609197, 0.8394252873563218, 0.8393103448275863, 0.8427586206896551, 0.6791954022988507, 0.8460919540229886, 0.8426436781609195, 0.8393103448275863, 0.8359770114942527, 0.6688505747126436, 0.8391954022988506, 0.7859770114942528]}, {\"categories\": [\"0\", \"5\", \"13\", \"20\", \"23\", \"25\", \"26\", \"27\", \"28\", \"29\", \"30\", \"31\", \"32\", \"33\", \"34\", \"35\", \"36\", \"37\", \"38\", \"39\", \"40\", \"41\", \"45\"], \"mode\": \"lines\", \"name\": \"precision_score_micro_max\", \"stepped\": true, \"type\": \"scatter\", \"data\": [0.8526436781609196, 0.8526436781609196, 0.8526436781609196, 0.8560919540229885, 0.8560919540229885, 0.8560919540229885, 0.8560919540229885, 0.8560919540229885, 0.8560919540229885, 0.8560919540229885, 0.8560919540229885, 0.8560919540229885, 0.8560919540229885, 0.8560919540229885, 0.8560919540229885, 0.8560919540229885, 0.8560919540229885, 0.8560919540229885, 0.8560919540229885, 0.8560919540229885, 0.8560919540229885, 0.8560919540229885, 0.8560919540229885]}], \"average_precision_score_macro\": [{\"categories\": [\"0\", \"5\", \"13\", \"20\", \"23\", \"25\", \"26\", \"27\", \"28\", \"29\", \"30\", \"31\", \"32\", \"33\", \"34\", \"35\", \"36\", \"37\", \"38\", \"39\", \"40\", \"41\", \"45\"], \"mode\": \"markers\", \"name\": \"average_precision_score_macro\", \"stepped\": false, \"type\": \"scatter\", \"data\": [0.8914391239798902, 0.5741193378226761, 0.7597412180878824, 0.8874550291522019, 0.8522056473141492, 0.906530224078641, 0.883798194963278, 0.886652312648984, 0.8692284413415063, 0.8916555831014848, 0.7536365984748448, 0.8943328459102821, 0.8774521258029895, 0.8812294123969966, 0.8825771066951102, 0.5303703703703704, 0.8785970224723618, 0.8933235503596165, 0.8903778039199881, 0.8786655702753506, 0.649882124918798, 0.8999938526722314, 0.9066210163348078]}, {\"categories\": [\"0\", \"5\", \"13\", \"20\", \"23\", \"25\", \"26\", \"27\", \"28\", \"29\", \"30\", \"31\", \"32\", \"33\", \"34\", \"35\", \"36\", \"37\", \"38\", \"39\", \"40\", \"41\", \"45\"], \"mode\": \"lines\", \"name\": \"average_precision_score_macro_max\", \"stepped\": true, \"type\": \"scatter\", \"data\": [0.8914391239798902, 0.8914391239798902, 0.8914391239798902, 0.8914391239798902, 0.8914391239798902, 0.906530224078641, 0.906530224078641, 0.906530224078641, 0.906530224078641, 0.906530224078641, 0.906530224078641, 0.906530224078641, 0.906530224078641, 0.906530224078641, 0.906530224078641, 0.906530224078641, 0.906530224078641, 0.906530224078641, 0.906530224078641, 0.906530224078641, 0.906530224078641, 0.906530224078641, 0.9066210163348078]}], \"average_precision_score_weighted\": [{\"categories\": [\"0\", \"5\", \"13\", \"20\", \"23\", \"25\", \"26\", \"27\", \"28\", \"29\", \"30\", \"31\", \"32\", \"33\", \"34\", \"35\", \"36\", \"37\", \"38\", \"39\", \"40\", \"41\", \"45\"], \"mode\": \"markers\", \"name\": \"average_precision_score_weighted\", \"stepped\": false, \"type\": \"scatter\", \"data\": [0.9151443911131578, 0.6307313459057176, 0.7942963774294312, 0.9151320934713377, 0.8886032389371155, 0.9297459993948871, 0.9091968522605498, 0.9129399156877629, 0.8961433850127809, 0.9199692164954616, 0.8004014679025632, 0.9187170653623152, 0.9022277258467106, 0.9088287200773848, 0.9089809547578984, 0.6130991544457656, 0.905049199684469, 0.9193081045276124, 0.9172166489602228, 0.9061387808896775, 0.7206449542944021, 0.9232028999928948, 0.9296111159402042]}, {\"categories\": [\"0\", \"5\", \"13\", \"20\", \"23\", \"25\", \"26\", \"27\", \"28\", \"29\", \"30\", \"31\", \"32\", \"33\", \"34\", \"35\", \"36\", \"37\", \"38\", \"39\", \"40\", \"41\", \"45\"], \"mode\": \"lines\", \"name\": \"average_precision_score_weighted_max\", \"stepped\": true, \"type\": \"scatter\", \"data\": [0.9151443911131578, 0.9151443911131578, 0.9151443911131578, 0.9151443911131578, 0.9151443911131578, 0.9297459993948871, 0.9297459993948871, 0.9297459993948871, 0.9297459993948871, 0.9297459993948871, 0.9297459993948871, 0.9297459993948871, 0.9297459993948871, 0.9297459993948871, 0.9297459993948871, 0.9297459993948871, 0.9297459993948871, 0.9297459993948871, 0.9297459993948871, 0.9297459993948871, 0.9297459993948871, 0.9297459993948871, 0.9297459993948871]}], \"norm_macro_recall\": [{\"categories\": [\"0\", \"5\", \"13\", \"20\", \"23\", \"25\", \"26\", \"27\", \"28\", \"29\", \"30\", \"31\", \"32\", \"33\", \"34\", \"35\", \"36\", \"37\", \"38\", \"39\", \"40\", \"41\", \"45\"], \"mode\": \"markers\", \"name\": \"norm_macro_recall\", \"stepped\": false, \"type\": \"scatter\", \"data\": [0.6430960429730452, 0.1312714568040655, 0.34833368830508415, 0.6448131519510237, 0.5780579701889771, 0.6093991376663002, 0.5835651455714385, 0.6583162468093817, 0.6481756375457748, 0.5862180847375354, 0.44199289230982597, 0.555031468658471, 0.6176164802652215, 0.6150270141757556, 0.618269501157373, 0.0, 0.6111206367367694, 0.6428651000029719, 0.635333012207726, 0.5821206367367694, 0.3219756737033625, 0.6379947175250379, 0.4455004441274465]}, {\"categories\": [\"0\", \"5\", \"13\", \"20\", \"23\", \"25\", \"26\", \"27\", \"28\", \"29\", \"30\", \"31\", \"32\", \"33\", \"34\", \"35\", \"36\", \"37\", \"38\", \"39\", \"40\", \"41\", \"45\"], \"mode\": \"lines\", \"name\": \"norm_macro_recall_max\", \"stepped\": true, \"type\": \"scatter\", \"data\": [0.6430960429730452, 0.6430960429730452, 0.6430960429730452, 0.6448131519510237, 0.6448131519510237, 0.6448131519510237, 0.6448131519510237, 0.6583162468093817, 0.6583162468093817, 0.6583162468093817, 0.6583162468093817, 0.6583162468093817, 0.6583162468093817, 0.6583162468093817, 0.6583162468093817, 0.6583162468093817, 0.6583162468093817, 0.6583162468093817, 0.6583162468093817, 0.6583162468093817, 0.6583162468093817, 0.6583162468093817, 0.6583162468093817]}], \"f1_score_macro\": [{\"categories\": [\"0\", \"5\", \"13\", \"20\", \"23\", \"25\", \"26\", \"27\", \"28\", \"29\", \"30\", \"31\", \"32\", \"33\", \"34\", \"35\", \"36\", \"37\", \"38\", \"39\", \"40\", \"41\", \"45\"], \"mode\": \"markers\", \"name\": \"f1_score_macro\", \"stepped\": false, \"type\": \"scatter\", \"data\": [0.8229109664388268, 0.5099311378159193, 0.6829016131755693, 0.822815722901729, 0.7627173409308519, 0.7900214515067097, 0.7845071918586952, 0.8081427029988533, 0.8044333356189913, 0.7934187592786736, 0.6817684599677918, 0.7887210541630117, 0.8087112345159181, 0.8033751321121214, 0.8036968321546192, 0.4024893878511494, 0.8117526751962452, 0.8132415474047215, 0.8106325999655283, 0.796071674161138, 0.6132712032879476, 0.8088346248885097, 0.6877560080381423]}, {\"categories\": [\"0\", \"5\", \"13\", \"20\", \"23\", \"25\", \"26\", \"27\", \"28\", \"29\", \"30\", \"31\", \"32\", \"33\", \"34\", \"35\", \"36\", \"37\", \"38\", \"39\", \"40\", \"41\", \"45\"], \"mode\": \"lines\", \"name\": \"f1_score_macro_max\", \"stepped\": true, \"type\": \"scatter\", \"data\": [0.8229109664388268, 0.8229109664388268, 0.8229109664388268, 0.8229109664388268, 0.8229109664388268, 0.8229109664388268, 0.8229109664388268, 0.8229109664388268, 0.8229109664388268, 0.8229109664388268, 0.8229109664388268, 0.8229109664388268, 0.8229109664388268, 0.8229109664388268, 0.8229109664388268, 0.8229109664388268, 0.8229109664388268, 0.8229109664388268, 0.8229109664388268, 0.8229109664388268, 0.8229109664388268, 0.8229109664388268, 0.8229109664388268]}], \"recall_score_macro\": [{\"categories\": [\"0\", \"5\", \"13\", \"20\", \"23\", \"25\", \"26\", \"27\", \"28\", \"29\", \"30\", \"31\", \"32\", \"33\", \"34\", \"35\", \"36\", \"37\", \"38\", \"39\", \"40\", \"41\", \"45\"], \"mode\": \"markers\", \"name\": \"recall_score_macro\", \"stepped\": false, \"type\": \"scatter\", \"data\": [0.8215480214865225, 0.5462382764387913, 0.6741668441525421, 0.8224065759755119, 0.7890289850944885, 0.8046995688331501, 0.7917825727857193, 0.8291581234046909, 0.8240878187728875, 0.7931090423687677, 0.720996446154913, 0.7775157343292354, 0.8088082401326109, 0.8075135070878778, 0.8091347505786866, 0.5, 0.8055603183683846, 0.8214325500014859, 0.817666506103863, 0.7910603183683846, 0.6609878368516813, 0.818997358762519, 0.7227502220637232]}, {\"categories\": [\"0\", \"5\", \"13\", \"20\", \"23\", \"25\", \"26\", \"27\", \"28\", \"29\", \"30\", \"31\", \"32\", \"33\", \"34\", \"35\", \"36\", \"37\", \"38\", \"39\", \"40\", \"41\", \"45\"], \"mode\": \"lines\", \"name\": \"recall_score_macro_max\", \"stepped\": true, \"type\": \"scatter\", \"data\": [0.8215480214865225, 0.8215480214865225, 0.8215480214865225, 0.8224065759755119, 0.8224065759755119, 0.8224065759755119, 0.8224065759755119, 0.8291581234046909, 0.8291581234046909, 0.8291581234046909, 0.8291581234046909, 0.8291581234046909, 0.8291581234046909, 0.8291581234046909, 0.8291581234046909, 0.8291581234046909, 0.8291581234046909, 0.8291581234046909, 0.8291581234046909, 0.8291581234046909, 0.8291581234046909, 0.8291581234046909, 0.8291581234046909]}]}, \"metricName\": null, \"primaryMetricName\": \"AUC_weighted\", \"showLegend\": false}, \"run_metrics\": [{\"name\": \"experiment_status_description\", \"run_id\": \"AutoML_93431f70-da04-4032-982b-67c9c9eb3449\", \"categories\": [0, 1, 2, 3, 4, 5, 6, 7, 8, 9, 10, 11, 12, 13], \"series\": [{\"data\": [\"Gathering dataset statistics.\", \"Generating features for the dataset.\", \"Beginning to fit featurizers and featurize the dataset.\", \"Completed fit featurizers and featurizing the dataset.\", \"Generating individually featurized CV splits.\", \"Beginning model selection.\", \"Best run model explanations started\", \"Model explanations data setup completed\", \"Choosing LightGBM as the surrogate model for explanations\", \"Computation of engineered features started\", \"Computation of engineered features completed\", \"Computation of raw features started\", \"Computation of raw features completed\", \"Best run model explanations completed\"]}]}, {\"name\": \"experiment_status\", \"run_id\": \"AutoML_93431f70-da04-4032-982b-67c9c9eb3449\", \"categories\": [0, 1, 2, 3, 4, 5, 6, 7, 8, 9, 10, 11, 12, 13], \"series\": [{\"data\": [\"DatasetEvaluation\", \"FeaturesGeneration\", \"DatasetFeaturization\", \"DatasetFeaturizationCompleted\", \"DatasetCrossValidationSplit\", \"ModelSelection\", \"BestRunExplainModel\", \"ModelExplanationDataSetSetup\", \"PickSurrogateModel\", \"EngineeredFeatureExplanations\", \"EngineeredFeatureExplanations\", \"RawFeaturesExplanations\", \"RawFeaturesExplanations\", \"BestRunExplainModel\"]}]}, {\"name\": \"average_precision_score_weighted\", \"run_id\": \"AutoML_93431f70-da04-4032-982b-67c9c9eb3449\", \"categories\": [0], \"series\": [{\"data\": [0.9337287145422248]}]}, {\"name\": \"recall_score_micro\", \"run_id\": \"AutoML_93431f70-da04-4032-982b-67c9c9eb3449\", \"categories\": [0], \"series\": [{\"data\": [0.8526436781609196]}]}, {\"name\": \"norm_macro_recall\", \"run_id\": \"AutoML_93431f70-da04-4032-982b-67c9c9eb3449\", \"categories\": [0], \"series\": [{\"data\": [0.6533946815325533]}]}, {\"name\": \"precision_score_micro\", \"run_id\": \"AutoML_93431f70-da04-4032-982b-67c9c9eb3449\", \"categories\": [0], \"series\": [{\"data\": [0.8526436781609196]}]}, {\"name\": \"precision_score_macro\", \"run_id\": \"AutoML_93431f70-da04-4032-982b-67c9c9eb3449\", \"categories\": [0], \"series\": [{\"data\": [0.8440758342964225]}]}, {\"name\": \"f1_score_micro\", \"run_id\": \"AutoML_93431f70-da04-4032-982b-67c9c9eb3449\", \"categories\": [0], \"series\": [{\"data\": [0.8526436781609196]}]}, {\"name\": \"log_loss\", \"run_id\": \"AutoML_93431f70-da04-4032-982b-67c9c9eb3449\", \"categories\": [0], \"series\": [{\"data\": [0.3497742095290052]}]}, {\"name\": \"AUC_micro\", \"run_id\": \"AutoML_93431f70-da04-4032-982b-67c9c9eb3449\", \"categories\": [0], \"series\": [{\"data\": [0.9249982824679612]}]}, {\"name\": \"recall_score_macro\", \"run_id\": \"AutoML_93431f70-da04-4032-982b-67c9c9eb3449\", \"categories\": [0], \"series\": [{\"data\": [0.8266973407662765]}]}, {\"name\": \"AUC_weighted\", \"run_id\": \"AutoML_93431f70-da04-4032-982b-67c9c9eb3449\", \"categories\": [0], \"series\": [{\"data\": [0.919739417273971]}]}, {\"name\": \"AUC_macro\", \"run_id\": \"AutoML_93431f70-da04-4032-982b-67c9c9eb3449\", \"categories\": [0], \"series\": [{\"data\": [0.919739417273971]}]}, {\"name\": \"precision_score_weighted\", \"run_id\": \"AutoML_93431f70-da04-4032-982b-67c9c9eb3449\", \"categories\": [0], \"series\": [{\"data\": [0.8658115690935164]}]}, {\"name\": \"balanced_accuracy\", \"run_id\": \"AutoML_93431f70-da04-4032-982b-67c9c9eb3449\", \"categories\": [0], \"series\": [{\"data\": [0.8266973407662765]}]}, {\"name\": \"f1_score_weighted\", \"run_id\": \"AutoML_93431f70-da04-4032-982b-67c9c9eb3449\", \"categories\": [0], \"series\": [{\"data\": [0.8497197992531366]}]}, {\"name\": \"average_precision_score_micro\", \"run_id\": \"AutoML_93431f70-da04-4032-982b-67c9c9eb3449\", \"categories\": [0], \"series\": [{\"data\": [0.9286466077942492]}]}, {\"name\": \"accuracy\", \"run_id\": \"AutoML_93431f70-da04-4032-982b-67c9c9eb3449\", \"categories\": [0], \"series\": [{\"data\": [0.8526436781609196]}]}, {\"name\": \"f1_score_macro\", \"run_id\": \"AutoML_93431f70-da04-4032-982b-67c9c9eb3449\", \"categories\": [0], \"series\": [{\"data\": [0.824438928682814]}]}, {\"name\": \"average_precision_score_macro\", \"run_id\": \"AutoML_93431f70-da04-4032-982b-67c9c9eb3449\", \"categories\": [0], \"series\": [{\"data\": [0.9121956052518335]}]}, {\"name\": \"matthews_correlation\", \"run_id\": \"AutoML_93431f70-da04-4032-982b-67c9c9eb3449\", \"categories\": [0], \"series\": [{\"data\": [0.6687219890976582]}]}, {\"name\": \"recall_score_weighted\", \"run_id\": \"AutoML_93431f70-da04-4032-982b-67c9c9eb3449\", \"categories\": [0], \"series\": [{\"data\": [0.8526436781609196]}]}, {\"name\": \"weighted_accuracy\", \"run_id\": \"AutoML_93431f70-da04-4032-982b-67c9c9eb3449\", \"categories\": [0], \"series\": [{\"data\": [0.8688561369808374]}]}], \"run_logs\": \"\\nRun is completed.\", \"graph\": {}, \"widget_settings\": {\"childWidgetDisplay\": \"popup\", \"send_telemetry\": false, \"log_level\": \"INFO\", \"sdk_version\": \"1.49.0\"}, \"loading\": false}"
          },
          "metadata": {}
        }
      ],
      "execution_count": 22,
      "metadata": {
        "gather": {
          "logged": 1688994605102
        },
        "jupyter": {
          "outputs_hidden": false,
          "source_hidden": false
        },
        "nteract": {
          "transient": {
            "deleting": false
          }
        }
      }
    },
    {
      "cell_type": "markdown",
      "source": [
        "## Best Model\n",
        "\n",
        "TODO: In the cell below, get the best model from the automl experiments and display all the properties of the model.\n",
        "\n"
      ],
      "metadata": {}
    },
    {
      "cell_type": "code",
      "source": [
        "best_model, fitted_model = remote_run.get_output()"
      ],
      "outputs": [
        {
          "output_type": "stream",
          "name": "stderr",
          "text": "WARNING:root:The version of the SDK does not match the version the model was trained on.\nWARNING:root:The consistency in the result may not be guaranteed.\nWARNING:root:Package:azureml-automl-core, training version:1.51.0.post1, current version:1.49.0\nPackage:azureml-automl-runtime, training version:1.51.0.post2, current version:1.49.0\nPackage:azureml-core, training version:1.51.0, current version:1.49.0\nPackage:azureml-dataprep, training version:4.10.8, current version:4.9.1\nPackage:azureml-dataprep-rslex, training version:2.17.12, current version:2.16.1\nPackage:azureml-dataset-runtime, training version:1.51.0, current version:1.49.0\nPackage:azureml-defaults, training version:1.51.0, current version:1.49.0\nPackage:azureml-interpret, training version:1.51.0, current version:1.49.0\nPackage:azureml-mlflow, training version:1.51.0, current version:1.49.0\nPackage:azureml-pipeline-core, training version:1.51.0, current version:1.49.0\nPackage:azureml-responsibleai, training version:1.51.0, current version:1.49.0\nPackage:azureml-telemetry, training version:1.51.0, current version:1.49.0\nPackage:azureml-train-automl-client, training version:1.51.0.post1, current version:1.49.0\nPackage:azureml-train-automl-runtime, training version:1.51.0.post2, current version:1.49.0\nPackage:azureml-train-core, training version:1.51.0, current version:1.49.0\nPackage:azureml-train-restclients-hyperdrive, training version:1.51.0, current version:1.49.0\nPackage:azureml-training-tabular, training version:1.51.0.post1, current version:1.49.0\nWARNING:root:Please ensure the version of your local conda dependencies match the version on which your model was trained in order to properly retrieve your model.\n"
        }
      ],
      "execution_count": 24,
      "metadata": {
        "gather": {
          "logged": 1688995820505
        },
        "jupyter": {
          "outputs_hidden": false,
          "source_hidden": false
        },
        "nteract": {
          "transient": {
            "deleting": false
          }
        }
      }
    },
    {
      "cell_type": "code",
      "source": [
        "best_model.get_metrics()"
      ],
      "outputs": [
        {
          "output_type": "execute_result",
          "execution_count": 36,
          "data": {
            "text/plain": "{'matthews_correlation': 0.6687219890976582,\n 'weighted_accuracy': 0.8688561369808374,\n 'average_precision_score_weighted': 0.9337287145422248,\n 'balanced_accuracy': 0.8266973407662765,\n 'log_loss': 0.3497742095290052,\n 'recall_score_macro': 0.8266973407662765,\n 'AUC_macro': 0.919739417273971,\n 'average_precision_score_macro': 0.9121956052518335,\n 'accuracy': 0.8526436781609196,\n 'AUC_micro': 0.9249982824679612,\n 'AUC_weighted': 0.919739417273971,\n 'f1_score_micro': 0.8526436781609196,\n 'precision_score_weighted': 0.8658115690935164,\n 'f1_score_macro': 0.824438928682814,\n 'precision_score_micro': 0.8526436781609196,\n 'f1_score_weighted': 0.8497197992531366,\n 'norm_macro_recall': 0.6533946815325533,\n 'precision_score_macro': 0.8440758342964225,\n 'recall_score_weighted': 0.8526436781609196,\n 'average_precision_score_micro': 0.9286466077942492,\n 'recall_score_micro': 0.8526436781609196,\n 'confusion_matrix': 'aml://artifactId/ExperimentRun/dcid.AutoML_93431f70-da04-4032-982b-67c9c9eb3449_44/confusion_matrix',\n 'accuracy_table': 'aml://artifactId/ExperimentRun/dcid.AutoML_93431f70-da04-4032-982b-67c9c9eb3449_44/accuracy_table'}"
          },
          "metadata": {}
        }
      ],
      "execution_count": 36,
      "metadata": {
        "jupyter": {
          "source_hidden": false,
          "outputs_hidden": false
        },
        "nteract": {
          "transient": {
            "deleting": false
          }
        },
        "gather": {
          "logged": 1688996322079
        }
      }
    },
    {
      "cell_type": "code",
      "source": [
        "fitted_model.steps"
      ],
      "outputs": [
        {
          "output_type": "execute_result",
          "execution_count": 38,
          "data": {
            "text/plain": "[('datatransformer',\n  DataTransformer(enable_dnn=False, enable_feature_sweeping=True, feature_sweeping_config={}, feature_sweeping_timeout=86400, featurization_config=None, force_text_dnn=False, is_cross_validation=True, is_onnx_compatible=False, task='classification')),\n ('prefittedsoftvotingclassifier',\n  PreFittedSoftVotingClassifier(classification_labels=numpy.array([0, 1]), estimators=[('25', Pipeline(memory=None, steps=[('standardscalerwrapper', StandardScalerWrapper(copy=True, with_mean=False, with_std=True)), ('extratreesclassifier', ExtraTreesClassifier(bootstrap=False, ccp_alpha=0.0, class_weight='balanced', criterion='gini', max_depth=None, max_features=None, max_leaf_nodes=None, max_samples=None, min_impurity_decrease=0.0, min_impurity_split=None, min_samples_leaf=0.01, min_samples_split=0.056842105263157895, min_weight_fraction_leaf=0.0, n_estimators=200, n_jobs=1, oob_score=False, random_state=None, verbose=0, warm_start=False))], verbose=False)), ('21', Pipeline(memory=None, steps=[('standardscalerwrapper', StandardScalerWrapper(copy=True, with_mean=False, with_std=False)), ('randomforestclassifier', RandomForestClassifier(bootstrap=True, ccp_alpha=0.0, class_weight=None, criterion='gini', max_depth=None, max_features='auto', max_leaf_nodes=None, max_samples=None, min_impurity_decrease=0.0, min_impurity_split=None, min_samples_leaf=1, min_samples_split=2, min_weight_fraction_leaf=0.0, n_estimators=100, n_jobs=1, oob_score=False, random_state=None, verbose=0, warm_start=False))], verbose=False)), ('16', Pipeline(memory=None, steps=[('minmaxscaler', MinMaxScaler(copy=True, feature_range=(0, 1))), ('extratreesclassifier', ExtraTreesClassifier(bootstrap=True, ccp_alpha=0.0, class_weight=None, criterion='gini', max_depth=None, max_features=None, max_leaf_nodes=None, max_samples=None, min_impurity_decrease=0.0, min_impurity_split=None, min_samples_leaf=0.01, min_samples_split=0.056842105263157895, min_weight_fraction_leaf=0.0, n_estimators=50, n_jobs=1, oob_score=False, random_state=None, verbose=0, warm_start=False))], verbose=False)), ('41', Pipeline(memory=None, steps=[('standardscalerwrapper', StandardScalerWrapper(copy=True, with_mean=False, with_std=False)), ('xgboostclassifier', XGBoostClassifier(booster='gbtree', colsample_bytree=1, eta=0.3, gamma=0.01, max_depth=10, max_leaves=7, n_estimators=100, n_jobs=1, objective='reg:logistic', problem_info=ProblemInfo(gpu_training_param_dict={'processing_unit_type': 'cpu'}), random_state=0, reg_alpha=0.5208333333333334, reg_lambda=1.5625, subsample=0.7, tree_method='auto'))], verbose=False)), ('37', Pipeline(memory=None, steps=[('standardscalerwrapper', StandardScalerWrapper(copy=True, with_mean=False, with_std=False)), ('xgboostclassifier', XGBoostClassifier(booster='gbtree', colsample_bytree=1, eta=0.1, gamma=0, max_depth=8, max_leaves=63, n_estimators=100, n_jobs=1, objective='reg:logistic', problem_info=ProblemInfo(gpu_training_param_dict={'processing_unit_type': 'cpu'}), random_state=0, reg_alpha=0.20833333333333334, reg_lambda=2.291666666666667, subsample=0.8, tree_method='auto'))], verbose=False)), ('17', Pipeline(memory=None, steps=[('minmaxscaler', MinMaxScaler(copy=True, feature_range=(0, 1))), ('extratreesclassifier', ExtraTreesClassifier(bootstrap=False, ccp_alpha=0.0, class_weight='balanced', criterion='gini', max_depth=None, max_features=0.9, max_leaf_nodes=None, max_samples=None, min_impurity_decrease=0.0, min_impurity_split=None, min_samples_leaf=0.01, min_samples_split=0.01, min_weight_fraction_leaf=0.0, n_estimators=25, n_jobs=1, oob_score=False, random_state=None, verbose=0, warm_start=False))], verbose=False)), ('12', Pipeline(memory=None, steps=[('standardscalerwrapper', StandardScalerWrapper(copy=True, with_mean=False, with_std=False)), ('xgboostclassifier', XGBoostClassifier(booster='gbtree', colsample_bytree=0.5, eta=0.3, gamma=0, max_depth=10, max_leaves=255, n_estimators=10, n_jobs=1, objective='reg:logistic', problem_info=ProblemInfo(gpu_training_param_dict={'processing_unit_type': 'cpu'}), random_state=0, reg_alpha=0, reg_lambda=0.10416666666666667, subsample=0.7, tree_method='auto'))], verbose=False)), ('33', Pipeline(memory=None, steps=[('standardscalerwrapper', StandardScalerWrapper(copy=True, with_mean=True, with_std=False)), ('lightgbmclassifier', LightGBMClassifier(boosting_type='goss', colsample_bytree=0.1988888888888889, learning_rate=0.05263631578947369, max_bin=310, max_depth=4, min_child_weight=3, min_data_in_leaf=0.041385172413793116, min_split_gain=0.7368421052631579, n_estimators=600, n_jobs=1, num_leaves=71, problem_info=ProblemInfo(gpu_training_param_dict={'processing_unit_type': 'cpu'}), random_state=None, reg_alpha=0.21052631578947367, reg_lambda=0.5789473684210527, subsample=1))], verbose=False)), ('6', Pipeline(memory=None, steps=[('sparsenormalizer', Normalizer(copy=True, norm='max')), ('xgboostclassifier', XGBoostClassifier(booster='gbtree', colsample_bytree=0.8, eta=0.3, gamma=0, max_depth=6, max_leaves=0, n_estimators=10, n_jobs=1, objective='reg:logistic', problem_info=ProblemInfo(gpu_training_param_dict={'processing_unit_type': 'cpu'}), random_state=0, reg_alpha=0, reg_lambda=0.625, subsample=0.8, tree_method='auto'))], verbose=False))], flatten_transform=None, weights=[0.1111111111111111, 0.1111111111111111, 0.1111111111111111, 0.1111111111111111, 0.1111111111111111, 0.1111111111111111, 0.1111111111111111, 0.1111111111111111, 0.1111111111111111]))]"
          },
          "metadata": {}
        }
      ],
      "execution_count": 38,
      "metadata": {
        "jupyter": {
          "source_hidden": false,
          "outputs_hidden": false
        },
        "nteract": {
          "transient": {
            "deleting": false
          }
        },
        "gather": {
          "logged": 1688997157927
        }
      }
    },
    {
      "cell_type": "markdown",
      "source": [
        "## Model Deployment\n",
        "\n",
        "Remember you have to deploy only one of the two models you trained but you still need to register both the models. Perform the steps in the rest of this notebook only if you wish to deploy this model.\n",
        "\n",
        "TODO: In the cell below, register the model, create an inference config and deploy the model as a web service."
      ],
      "metadata": {}
    },
    {
      "cell_type": "code",
      "source": [
        "# register the best model\r\n",
        "model = best_model.register_model(model_name=\"best_automl_model\", model_path=\"outputs/model.pkl\")"
      ],
      "outputs": [],
      "execution_count": null,
      "metadata": {
        "gather": {
          "logged": 1598431435189
        },
        "jupyter": {
          "outputs_hidden": false,
          "source_hidden": false
        },
        "nteract": {
          "transient": {
            "deleting": false
          }
        }
      }
    },
    {
      "cell_type": "markdown",
      "source": [
        "TODO: In the cell below, send a request to the web service you deployed to test it."
      ],
      "metadata": {
        "collapsed": true,
        "gather": {
          "logged": 1598431657736
        },
        "jupyter": {
          "outputs_hidden": false,
          "source_hidden": false
        },
        "nteract": {
          "transient": {
            "deleting": false
          }
        }
      }
    },
    {
      "cell_type": "code",
      "source": [
        "inference_config = InferenceConfig(entry_script=\"inference.py\",\r\n",
        "                                   environment=inference_env)\r\n",
        "\r\n",
        "service_name = \"automl-deployed-model\"\r\n",
        "deploy_config = AciWebservice.deploy_configuration(cpu_cores=1, memory_gb=1)\r\n",
        "\r\n",
        "deployed_service = Model.deploy(workscapce=ws, name=service_name, models=[model],\r\n",
        "                                inference_config=inference_config,\r\n",
        "                                deploy_config=deploy_config)\r\n",
        "\r\n",
        "deployed_service.wait_for_deployment(show_output=True)\r\n",
        "\r\n",
        "deployed_service.scoring_uri"
      ],
      "outputs": [],
      "execution_count": null,
      "metadata": {
        "gather": {
          "logged": 1598432707604
        },
        "jupyter": {
          "outputs_hidden": false,
          "source_hidden": false
        },
        "nteract": {
          "transient": {
            "deleting": false
          }
        }
      }
    },
    {
      "cell_type": "code",
      "source": [
        "# Enable app insights \r\n",
        "\r\n",
        "deployed_service.update(enable_app_insights=True)"
      ],
      "outputs": [],
      "execution_count": null,
      "metadata": {
        "jupyter": {
          "source_hidden": false,
          "outputs_hidden": false
        },
        "nteract": {
          "transient": {
            "deleting": false
          }
        }
      }
    },
    {
      "cell_type": "markdown",
      "source": [
        "TODO: In the cell below, print the logs of the web service and delete the service"
      ],
      "metadata": {
        "collapsed": true,
        "gather": {
          "logged": 1598432765711
        },
        "jupyter": {
          "outputs_hidden": false,
          "source_hidden": false
        },
        "nteract": {
          "transient": {
            "deleting": false
          }
        }
      }
    },
    {
      "cell_type": "code",
      "source": [],
      "outputs": [],
      "execution_count": null,
      "metadata": {
        "jupyter": {
          "outputs_hidden": false,
          "source_hidden": false
        },
        "nteract": {
          "transient": {
            "deleting": false
          }
        }
      }
    },
    {
      "cell_type": "markdown",
      "source": [
        "**Submission Checklist**\n",
        "- I have registered the model.\n",
        "- I have deployed the model with the best accuracy as a webservice.\n",
        "- I have tested the webservice by sending a request to the model endpoint.\n",
        "- I have deleted the webservice and shutdown all the computes that I have used.\n",
        "- I have taken a screenshot showing the model endpoint as active.\n",
        "- The project includes a file containing the environment details.\n"
      ],
      "metadata": {}
    },
    {
      "cell_type": "markdown",
      "source": [],
      "metadata": {}
    }
  ],
  "metadata": {
    "kernel_info": {
      "name": "python38-azureml"
    },
    "kernelspec": {
      "name": "python38-azureml",
      "language": "python",
      "display_name": "Python 3.8 - AzureML"
    },
    "language_info": {
      "name": "python",
      "version": "3.8.5",
      "mimetype": "text/x-python",
      "codemirror_mode": {
        "name": "ipython",
        "version": 3
      },
      "pygments_lexer": "ipython3",
      "nbconvert_exporter": "python",
      "file_extension": ".py"
    },
    "nteract": {
      "version": "nteract-front-end@1.0.0"
    },
    "microsoft": {
      "host": {
        "AzureML": {
          "notebookHasBeenCompleted": true
        }
      },
      "ms_spell_check": {
        "ms_spell_check_language": "en"
      }
    }
  },
  "nbformat": 4,
  "nbformat_minor": 2
}